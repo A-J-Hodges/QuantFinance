{
 "cells": [
  {
   "cell_type": "markdown",
   "metadata": {},
   "source": [
    "# Introduction to Quant Finance\n",
    "\n",
    "## Module 1.1: Distributions and Random Processes\n",
    "\n",
    "### 1.1.2: Distributions\n",
    "\n",
    "Many real world phenomena can be modelled with random variables, which is particularly useful when we do not have all possible information about a given environment. Consider a die roll, where we throw a die into the air, and see which number is on top.\n",
    "\n",
    "The die has six possible outcomes: 1, 2, 3, 4, 5 and 6, which are the possible states or values. It is impossible* to get a value other than these six distinct possible.\n",
    "\n",
    "<div class=\"alert alert-warning\">\n",
    "    * Some might argue that it would be possible to properly model a die throw and know what the result would be. Whether it is possible is the type of question that keeps physicists up at night, however it almost certainly would be more effort than it's worth.\n",
    "</div>\n",
    "\n",
    "Here is a simulation of a die roll."
   ]
  },
  {
   "cell_type": "code",
   "execution_count": 1,
   "metadata": {},
   "outputs": [],
   "source": [
    "%run setup.ipy"
   ]
  },
  {
   "cell_type": "code",
   "execution_count": 2,
   "metadata": {},
   "outputs": [
    {
     "data": {
      "text/plain": [
       "5"
      ]
     },
     "execution_count": 2,
     "metadata": {},
     "output_type": "execute_result"
    }
   ],
   "source": [
    "import random\n",
    "\n",
    "possible_states = [1, 2, 3, 4, 5, 6]\n",
    "\n",
    "random.choice(possible_states)"
   ]
  },
  {
   "cell_type": "markdown",
   "metadata": {},
   "source": [
    "If we run this simulation 100,000 times, we can get an *empirical estimate* of the distribution:"
   ]
  },
  {
   "cell_type": "code",
   "execution_count": 3,
   "metadata": {},
   "outputs": [],
   "source": [
    "NUM_TRIALS = 100000\n",
    "\n",
    "results = [random.choice(possible_states)\n",
    "          for i in range(NUM_TRIALS)]"
   ]
  },
  {
   "cell_type": "code",
   "execution_count": 4,
   "metadata": {},
   "outputs": [
    {
     "data": {
      "text/plain": [
       "Counter({3: 16780, 5: 16647, 6: 16620, 1: 16662, 2: 16582, 4: 16709})"
      ]
     },
     "execution_count": 4,
     "metadata": {},
     "output_type": "execute_result"
    }
   ],
   "source": [
    "from collections import Counter\n",
    "counts = Counter(results)\n",
    "counts"
   ]
  },
  {
   "cell_type": "code",
   "execution_count": 5,
   "metadata": {},
   "outputs": [
    {
     "data": {
      "text/plain": [
       "RendererRegistry.enable('notebook')"
      ]
     },
     "execution_count": 5,
     "metadata": {},
     "output_type": "execute_result"
    }
   ],
   "source": [
    "import altair as alt\n",
    "alt.renderers.enable('notebook')"
   ]
  },
  {
   "cell_type": "code",
   "execution_count": 6,
   "metadata": {},
   "outputs": [
    {
     "data": {
      "application/javascript": [
       "var spec = {\"config\": {\"view\": {\"width\": 400, \"height\": 300}}, \"data\": {\"url\": \"altair-data-303501d77b1ea89e512de45f609591e7.json\", \"format\": {\"type\": \"json\"}}, \"mark\": \"bar\", \"encoding\": {\"x\": {\"type\": \"ordinal\", \"field\": \"state\"}, \"y\": {\"type\": \"quantitative\", \"field\": \"count\"}}, \"$schema\": \"https://vega.github.io/schema/vega-lite/v2.6.0.json\"};\n",
       "var opt = {};\n",
       "var type = \"vega-lite\";\n",
       "var id = \"a76aa9a1-1171-49e4-b120-a59dc04b86cb\";\n",
       "\n",
       "var output_area = this;\n",
       "\n",
       "require([\"nbextensions/jupyter-vega/index\"], function(vega) {\n",
       "  var target = document.createElement(\"div\");\n",
       "  target.id = id;\n",
       "  target.className = \"vega-embed\";\n",
       "\n",
       "  var style = document.createElement(\"style\");\n",
       "  style.textContent = [\n",
       "    \".vega-embed .error p {\",\n",
       "    \"  color: firebrick;\",\n",
       "    \"  font-size: 14px;\",\n",
       "    \"}\",\n",
       "  ].join(\"\\\\n\");\n",
       "\n",
       "  // element is a jQuery wrapped DOM element inside the output area\n",
       "  // see http://ipython.readthedocs.io/en/stable/api/generated/\\\n",
       "  // IPython.display.html#IPython.display.Javascript.__init__\n",
       "  element[0].appendChild(target);\n",
       "  element[0].appendChild(style);\n",
       "\n",
       "  vega.render(\"#\" + id, spec, type, opt, output_area);\n",
       "}, function (err) {\n",
       "  if (err.requireType !== \"scripterror\") {\n",
       "    throw(err);\n",
       "  }\n",
       "});\n"
      ],
      "text/plain": [
       "<vega.vegalite.VegaLite at 0x7f6d3837cd30>"
      ]
     },
     "metadata": {
      "jupyter-vega": "#a76aa9a1-1171-49e4-b120-a59dc04b86cb"
     },
     "output_type": "display_data"
    },
    {
     "data": {
      "text/plain": []
     },
     "execution_count": 6,
     "metadata": {},
     "output_type": "execute_result"
    },
    {
     "data": {
      "image/png": "[encoded data removed]"
     },
     "metadata": {
      "jupyter-vega": "#a76aa9a1-1171-49e4-b120-a59dc04b86cb"
     },
     "output_type": "display_data"
    }
   ],
   "source": [
    "import pandas as pd\n",
    "\n",
    "die_rolls = pd.DataFrame({\n",
    "    'state': possible_states,\n",
    "    'count': [counts.get(state, 0) for state in possible_states]\n",
    "})\n",
    "\n",
    "alt.Chart(die_rolls).mark_bar().encode(\n",
    "    x='state:O',\n",
    "    y='count'\n",
    ")"
   ]
  },
  {
   "cell_type": "markdown",
   "metadata": {},
   "source": [
    "As one might expect with a \"fair\" die roll like this, the estimates are about the same (your results may vary).\n",
    "\n",
    "More formally, we have a random variable $X$ such that the value of $X$ is the result of rolling a fair die. The distribution of $X$ is the following:\n",
    "\n",
    "\n",
    "$\n",
    "\\begin{gather*}\n",
    "  P(X=x) = \\begin{cases}\n",
    "  \\frac{1}{6} & \\text{if $x \\in \\{1,2,3,4,5,6\\}$}\\\\\n",
    "  0 & \\text{otherwise.}\n",
    "  \\end{cases}\n",
    "\\end{gather*}\n",
    "$\n",
    "\n",
    "In this case, all options (at least, the valid ones) have the same likelihood of appearing, and therefore the resulting distribution is known as a *uniform distribution*. Uniform distributions can occur for both discrete and continuous variables.\n",
    "\n",
    "A **discrete** variable is one that takes on a fixed set of values, such as a die roll or the month you were born. They are usually finite (i.e. there is only so many of them), but the requirement is technically that they be *countable*, which allows for infinite discrete values (think of the integers as a discrete infinite random variable).\n",
    "\n",
    "A **continuous** variable is one that can take on an arbitrary value. As an example, the amount of liquid in a cup is continuous. It can be 350ml, or 350.1ml, or 350.1252342ml, or so on, with infinite precision (we will ignore the effect of the Planck constant). \n",
    "\n",
    "Distributions exist for both discrete random variables, as we saw above, and for continuous random variables, however they often behave differently."
   ]
  },
  {
   "cell_type": "code",
   "execution_count": 7,
   "metadata": {},
   "outputs": [
    {
     "data": {
      "text/html": [
       "<!-- No need to worry about this code -  it makes the equation in the next cell larger and more readable -->\n",
       "<style>\n",
       "    .big_function {font-size: 200%;}\n",
       "</style>"
      ],
      "text/plain": [
       "<IPython.core.display.HTML object>"
      ]
     },
     "metadata": {},
     "output_type": "display_data"
    }
   ],
   "source": [
    "%%html\n",
    "<!-- No need to worry about this code -  it makes the equation in the next cell larger and more readable -->\n",
    "<style>\n",
    "    .big_function {font-size: 200%;}\n",
    "</style>"
   ]
  },
  {
   "cell_type": "markdown",
   "metadata": {},
   "source": [
    "## Normal Distributions\n",
    "Let's create a normal distribution, which is a continuous distribution centred around 0 and with a standard deviation of 1.\n",
    "\n",
    "A normal distribution is the most commonly seen continuous distribution, and the one most people are familiar with. The equation for the graph is:\n",
    "\n",
    "<div class=\"big_function\">\n",
    "    $y = \\frac{1}{\\sqrt{2\\pi\\sigma^2}}e^{-\\frac{x-\\mu^2}{2\\sigma^2}}$\n",
    "</div>"
   ]
  },
  {
   "cell_type": "code",
   "execution_count": 8,
   "metadata": {},
   "outputs": [],
   "source": [
    "# Let's plot that out\n",
    "x = np.linspace(-5, 5, 1000)  # 1000 linearly spaced points starting -10 going to 10\n",
    "\n",
    "mean = 0\n",
    "sigma = 1\n",
    "\n",
    "y = (1 / np.sqrt(2 * np.pi)) * np.e ** -((x - mean) ** 2) / (2 * sigma ** 2)\n",
    "\n",
    "# Or a bit more nicely laid out...\n",
    "\n",
    "scale_term = (1 / np.sqrt(2 * np.pi))\n",
    "exponent_term = ((x - mean) ** 2) / (2 * sigma ** 2)\n",
    "y = scale_term * np.e ** -exponent_term"
   ]
  },
  {
   "cell_type": "code",
   "execution_count": 9,
   "metadata": {},
   "outputs": [
    {
     "data": {
      "image/png": "[encoded data removed]",
      "text/plain": [
       "<Figure size 432x288 with 1 Axes>"
      ]
     },
     "metadata": {
      "needs_background": "light"
     },
     "output_type": "display_data"
    }
   ],
   "source": [
    "from matplotlib import pyplot as plt\n",
    "plt.plot(x, y, \"-\");"
   ]
  },
  {
   "cell_type": "code",
   "execution_count": 10,
   "metadata": {},
   "outputs": [],
   "source": [
    "from scipy import stats"
   ]
  },
  {
   "cell_type": "code",
   "execution_count": 11,
   "metadata": {},
   "outputs": [],
   "source": [
    "n = stats.norm(0, 1)"
   ]
  },
  {
   "cell_type": "code",
   "execution_count": 12,
   "metadata": {},
   "outputs": [
    {
     "data": {
      "text/plain": [
       "array([-0.47399574,  0.93116943, -0.97404884,  0.56807798, -1.22650142,\n",
       "        0.82135456, -0.62217447,  0.72911214,  0.46207055,  0.71712573])"
      ]
     },
     "execution_count": 12,
     "metadata": {},
     "output_type": "execute_result"
    }
   ],
   "source": [
    "# Generate 10 random variates from this distribution\n",
    "n.rvs(10)"
   ]
  },
  {
   "cell_type": "code",
   "execution_count": 13,
   "metadata": {},
   "outputs": [],
   "source": [
    "# note that Counter isn't very helpful here. It is *highly* likely that all counts will be 1\n",
    "# regardless of how many values you generate. In fact, it's nearly impossible to get the same value twice.\n",
    "results = n.rvs(10)"
   ]
  },
  {
   "cell_type": "code",
   "execution_count": 14,
   "metadata": {},
   "outputs": [
    {
     "data": {
      "text/plain": [
       "Counter({0.44831617527530754: 1,\n",
       "         -0.21653828748024756: 1,\n",
       "         -0.6114742264497406: 1,\n",
       "         -1.1883839392545708: 1,\n",
       "         0.1498886220980633: 1,\n",
       "         -0.4248079671781548: 1,\n",
       "         0.2914065834487925: 1,\n",
       "         -0.4737973768099745: 1,\n",
       "         2.3893275462890986: 1,\n",
       "         -0.5861565735627324: 1})"
      ]
     },
     "execution_count": 14,
     "metadata": {},
     "output_type": "execute_result"
    }
   ],
   "source": [
    "Counter(results)"
   ]
  },
  {
   "cell_type": "code",
   "execution_count": 15,
   "metadata": {},
   "outputs": [
    {
     "data": {
      "application/javascript": [
       "var spec = {\"config\": {\"view\": {\"width\": 400, \"height\": 300}}, \"data\": {\"url\": \"altair-data-96bb28d94d6ff9250ec86849429d7f63.json\", \"format\": {\"type\": \"json\"}}, \"mark\": \"bar\", \"encoding\": {\"color\": {\"value\": \"red\"}, \"x\": {\"type\": \"quantitative\", \"bin\": {\"maxbins\": 100}, \"field\": \"value\"}, \"y\": {\"type\": \"quantitative\", \"aggregate\": \"count\"}}, \"$schema\": \"https://vega.github.io/schema/vega-lite/v2.6.0.json\"};\n",
       "var opt = {};\n",
       "var type = \"vega-lite\";\n",
       "var id = \"3b598041-44ac-439e-8805-5a8872e4fbf3\";\n",
       "\n",
       "var output_area = this;\n",
       "\n",
       "require([\"nbextensions/jupyter-vega/index\"], function(vega) {\n",
       "  var target = document.createElement(\"div\");\n",
       "  target.id = id;\n",
       "  target.className = \"vega-embed\";\n",
       "\n",
       "  var style = document.createElement(\"style\");\n",
       "  style.textContent = [\n",
       "    \".vega-embed .error p {\",\n",
       "    \"  color: firebrick;\",\n",
       "    \"  font-size: 14px;\",\n",
       "    \"}\",\n",
       "  ].join(\"\\\\n\");\n",
       "\n",
       "  // element is a jQuery wrapped DOM element inside the output area\n",
       "  // see http://ipython.readthedocs.io/en/stable/api/generated/\\\n",
       "  // IPython.display.html#IPython.display.Javascript.__init__\n",
       "  element[0].appendChild(target);\n",
       "  element[0].appendChild(style);\n",
       "\n",
       "  vega.render(\"#\" + id, spec, type, opt, output_area);\n",
       "}, function (err) {\n",
       "  if (err.requireType !== \"scripterror\") {\n",
       "    throw(err);\n",
       "  }\n",
       "});\n"
      ],
      "text/plain": [
       "<vega.vegalite.VegaLite at 0x7f6d068e43c8>"
      ]
     },
     "metadata": {
      "jupyter-vega": "#3b598041-44ac-439e-8805-5a8872e4fbf3"
     },
     "output_type": "display_data"
    },
    {
     "data": {
      "text/plain": []
     },
     "execution_count": 15,
     "metadata": {},
     "output_type": "execute_result"
    },
    {
     "data": {
      "image/png": "[encoded data removed]"
     },
     "metadata": {
      "jupyter-vega": "#3b598041-44ac-439e-8805-5a8872e4fbf3"
     },
     "output_type": "display_data"
    }
   ],
   "source": [
    "# Histograms work better here\n",
    "\n",
    "normal_values = pd.DataFrame({\"value\": n.rvs(5000)})\n",
    "\n",
    "alt.Chart(normal_values).mark_bar().encode(\n",
    "    alt.X(\"value\", bin=alt.Bin(maxbins=100)),\n",
    "    y='count()',\n",
    "    color=alt.value('red'),  # Aside: Note US spelling. Also try \"hex codes\": https://htmlcolorcodes.com/\n",
    ")"
   ]
  },
  {
   "cell_type": "markdown",
   "metadata": {},
   "source": [
    "\n",
    "<div class=\"alert alert-success\">\n",
    "Note that Altair won't let us directly compute a histogram with more than 5000 rows. To do that, check out this example, which saves the data to a local temporary json file, and then displays from that. Without doing this, Altair embeds a *copy* of the data in a graph!"
   ]
  },
  {
   "cell_type": "code",
   "execution_count": 16,
   "metadata": {
    "scrolled": false
   },
   "outputs": [
    {
     "data": {
      "application/javascript": [
       "var spec = {\"config\": {\"view\": {\"width\": 400, \"height\": 300}}, \"data\": {\"url\": \"altair-data-aaaa64977d714c1f7634df5e049285ce.json\", \"format\": {\"type\": \"json\"}}, \"mark\": \"bar\", \"encoding\": {\"x\": {\"type\": \"quantitative\", \"bin\": {\"maxbins\": 100}, \"field\": \"value\"}, \"y\": {\"type\": \"quantitative\", \"aggregate\": \"count\"}}, \"$schema\": \"https://vega.github.io/schema/vega-lite/v2.6.0.json\"};\n",
       "var opt = {};\n",
       "var type = \"vega-lite\";\n",
       "var id = \"ae2e4a72-fed2-4e9e-925b-c815b226596e\";\n",
       "\n",
       "var output_area = this;\n",
       "\n",
       "require([\"nbextensions/jupyter-vega/index\"], function(vega) {\n",
       "  var target = document.createElement(\"div\");\n",
       "  target.id = id;\n",
       "  target.className = \"vega-embed\";\n",
       "\n",
       "  var style = document.createElement(\"style\");\n",
       "  style.textContent = [\n",
       "    \".vega-embed .error p {\",\n",
       "    \"  color: firebrick;\",\n",
       "    \"  font-size: 14px;\",\n",
       "    \"}\",\n",
       "  ].join(\"\\\\n\");\n",
       "\n",
       "  // element is a jQuery wrapped DOM element inside the output area\n",
       "  // see http://ipython.readthedocs.io/en/stable/api/generated/\\\n",
       "  // IPython.display.html#IPython.display.Javascript.__init__\n",
       "  element[0].appendChild(target);\n",
       "  element[0].appendChild(style);\n",
       "\n",
       "  vega.render(\"#\" + id, spec, type, opt, output_area);\n",
       "}, function (err) {\n",
       "  if (err.requireType !== \"scripterror\") {\n",
       "    throw(err);\n",
       "  }\n",
       "});\n"
      ],
      "text/plain": [
       "<vega.vegalite.VegaLite at 0x7f6d068636d8>"
      ]
     },
     "metadata": {
      "jupyter-vega": "#ae2e4a72-fed2-4e9e-925b-c815b226596e"
     },
     "output_type": "display_data"
    },
    {
     "data": {
      "text/plain": []
     },
     "execution_count": 16,
     "metadata": {},
     "output_type": "execute_result"
    },
    {
     "data": {
      "image/png": "[encoded data removed]"
     },
     "metadata": {
      "jupyter-vega": "#ae2e4a72-fed2-4e9e-925b-c815b226596e"
     },
     "output_type": "display_data"
    }
   ],
   "source": [
    "if not alt.data_transformers.active == 'json':  # Check json isn't already active\n",
    "    import os\n",
    "    # Make a temp folder to put these json files in - Altair creates a lot of them!\n",
    "    dataset_temp_name = 'altair-temp-data/'\n",
    "    if not os.path.exists(dataset_temp_name):\n",
    "        # if the folder doesn't exist, create it\n",
    "        os.mkdir(dataset_temp_name)\n",
    "    # Tell Altair to temporary save datasets it needs to that folder\n",
    "    alt.data_transformers.enable('json', prefix=dataset_temp_name)\n",
    "\n",
    "normal_values = pd.DataFrame({\"value\": n.rvs(10000)})\n",
    "\n",
    "alt.Chart(normal_values).mark_bar().encode(\n",
    "    alt.X(\"value\", bin=alt.Bin(maxbins=100)),\n",
    "    y='count()',\n",
    ")"
   ]
  },
  {
   "cell_type": "markdown",
   "metadata": {},
   "source": [
    "Notice the shape, the famous \"bell curve\" of the normal distribution. It's heavily centred around the mean (0) and the spread of data is indicated by the standard deviation."
   ]
  },
  {
   "cell_type": "markdown",
   "metadata": {},
   "source": [
    "#### Exercise\n",
    "\n",
    "1. Plot a histogram of the standard deviation with the following properties:\n",
    "\n",
    "    1. Mean ($\\mu$) of 1, standard deviation ($\\sigma$) of 7\n",
    "    2. $\\mu=10, \\sigma=1$\n",
    "    3. $\\mu=-10, \\sigma=5$\n",
    "2. Create a python function that accepts two inputs (`mean` and `standard_deviation`) and plots the histogram as per question 1.\n",
    "\n",
    "3. Investigate the documentation of Altair and overlay these plots on top of each other, with different colours, giving a result that looks like this:"
   ]
  },
  {
   "cell_type": "markdown",
   "metadata": {},
   "source": [
    "*For solutions, see `solutions/normal_distributions.py`*"
   ]
  },
  {
   "cell_type": "markdown",
   "metadata": {},
   "source": [
    "### Probability Density Functions\n",
    "\n",
    "The histograms were were looking at above are approximations of what is known as a *Probability Density Function*, or PDF. A PDF shows us the probability of a given value, for a discrete random varaible.\n",
    "\n",
    "For a continuous random variable, any *exact* value has a probability of 0 (think about why this is the case). We can only give probabilities for ranges. For a lower bound of $a$ and an upper bound of $b$, we can obtain the probability of a random value lying between $a$ and $b$ by integrating the PDF between those values. For example, if our PDF function is $f(x)$, then the probability of random variable $X$ lying between $a$ and $b$ is given by:\n",
    "\n",
    "$P[a <= X <= b] = \\int_a^b f(x) dx$\n",
    "\n",
    "As an aside, and very informally, you can think of \"the probability of $X=2$\" as being a range *about* 2, say any value between 1.99 and 2.01 (or whatever precision you would like). Be clear on this definition when you do go to present your findings though, as a formal definition will be needed to replicate your results.\n",
    "\n",
    "We can generate the PDF through the `.pdf` method on a `scipy.stats` distribution. Earlier in this notebook we computed this manually through the equation. Now we let a library do the work for us."
   ]
  },
  {
   "cell_type": "code",
   "execution_count": 10,
   "metadata": {},
   "outputs": [],
   "source": [
    "n = stats.norm(0, 1)"
   ]
  },
  {
   "cell_type": "code",
   "execution_count": 11,
   "metadata": {},
   "outputs": [
    {
     "data": {
      "text/plain": [
       "<scipy.stats._distn_infrastructure.rv_frozen at 0x1142077b8>"
      ]
     },
     "execution_count": 11,
     "metadata": {},
     "output_type": "execute_result"
    }
   ],
   "source": [
    "n"
   ]
  },
  {
   "cell_type": "code",
   "execution_count": 18,
   "metadata": {},
   "outputs": [],
   "source": [
    "x = np.linspace(-4, 4, 1000)\n",
    "y = n.pdf(x)"
   ]
  },
  {
   "cell_type": "code",
   "execution_count": 19,
   "metadata": {},
   "outputs": [
    {
     "data": {
      "image/png": "[encoded data removed]",
      "text/plain": [
       "<Figure size 432x288 with 1 Axes>"
      ]
     },
     "metadata": {
      "needs_background": "light"
     },
     "output_type": "display_data"
    }
   ],
   "source": [
    "plt.plot(x, y);"
   ]
  },
  {
   "cell_type": "markdown",
   "metadata": {},
   "source": [
    "As with all probabilities, the sum or integral of the probabilities of all possible outcomes must equal one. In a die roll, each outcome (1, 2, 3, 4, 5, 6) has an probability of $\\frac{1}{6}$. Summed, that equals one.\n",
    "\n",
    "In a continuous scenario, the *area under the curve* must sum to 1.0 across the full range. That is:\n",
    "\n",
    "$\\int_{-\\infty}^{\\infty}f(x)dx = 1$\n",
    "\n",
    "<div class=\"alert alert-warning\">\n",
    "    Note that the value $f(x)$ is not a probability! It might look like one, but it's the <i>area under the curve</i> that gives us the probability.\n",
    "</div>\n",
    "\n",
    "For a given function, if it is positive or 0 everywhere, and the area under the curve integrates to 1, the function is a valid probability density function.\n",
    "\n",
    "Some functions are valid only under a given domain. For instance, the function $y = ax(b-x)$ is only positive for $0<=x<=b$. In this case, if the area under the curve sums to 1 across that domain, the function is a valid PDF for that domain.\n"
   ]
  },
  {
   "cell_type": "markdown",
   "metadata": {},
   "source": [
    "\n",
    "**Exercise**\n",
    "Using three different distribution classes in `scipy.stats`, run the following experiment:\n",
    "\n",
    "1. Compute 10,000 random values. Compute and save the mean.\n",
    "2. Repeat step 1, 1,000 times\n",
    "3. Plot the histogram of the mean values and observe the shape.\n",
    "\n",
    "Use the distributions `norm`, `cosine` and `uniform`.\n",
    "\n",
    "This finding is why the normal distribution is so important, and so commonly found in nature.\n",
    "\n",
    "**Hint:** See this example for how to do independent axes with Altair: https://altair-viz.github.io/gallery/layered_plot_with_dual_axis.html?highlight=resolve_scale\n",
    "\n",
    "**Extended exercise**\n",
    "\n",
    "Load a random dataset, and perform the same exercise with the real world data - that is, take the mean of each of 1,000 samples of size 10,000 and plot the histogram. What shaped distribution does it look like?"
   ]
  },
  {
   "cell_type": "code",
   "execution_count": 20,
   "metadata": {},
   "outputs": [],
   "source": [
    "# For solutions, see solutions/plotting_distributions.py"
   ]
  },
  {
   "cell_type": "markdown",
   "metadata": {},
   "source": [
    "### Cumulative Density Function\n",
    "\n",
    "A cumulative density function (CDF) tells us the probability of a value being less than, or equal to, a given value. A CDF is normally more useful for everyday usage.\n",
    "\n",
    "Here is the CDF for the normal distribution:"
   ]
  },
  {
   "cell_type": "code",
   "execution_count": 22,
   "metadata": {},
   "outputs": [],
   "source": [
    "distribution = stats.norm()"
   ]
  },
  {
   "cell_type": "code",
   "execution_count": 28,
   "metadata": {},
   "outputs": [],
   "source": [
    "x = np.linspace(-5, 5, 1000)\n",
    "y_cdf = distribution.cdf(x)"
   ]
  },
  {
   "cell_type": "code",
   "execution_count": 30,
   "metadata": {},
   "outputs": [
    {
     "data": {
      "image/png": "[encoded data removed]",
      "text/plain": [
       "<Figure size 432x288 with 1 Axes>"
      ]
     },
     "metadata": {
      "needs_background": "light"
     },
     "output_type": "display_data"
    }
   ],
   "source": [
    "plt.plot(x, y_cdf);"
   ]
  },
  {
   "cell_type": "markdown",
   "metadata": {},
   "source": [
    "\n",
    "This graph allows us to compute the probability that a random value is chosen from the normal distribution ($\\mu=0, \\sigma=1$) will be less than or equal to the given $x$ value.\n",
    "\n",
    "For example, to determine the probability a given value is less than or equal to 1.2, we find the $y$ value corresponding to the given $x$ value:"
   ]
  },
  {
   "cell_type": "code",
   "execution_count": 41,
   "metadata": {},
   "outputs": [
    {
     "name": "stdout",
     "output_type": "stream",
     "text": [
      "At x=1.2, y=0.885\n"
     ]
    },
    {
     "data": {
      "image/png": "[encoded data removed]",
      "text/plain": [
       "<Figure size 432x288 with 1 Axes>"
      ]
     },
     "metadata": {
      "needs_background": "light"
     },
     "output_type": "display_data"
    }
   ],
   "source": [
    "x_0 = 1.2\n",
    "y_0 = distribution.cdf(x_0)\n",
    "\n",
    "plt.plot(x, y_cdf)\n",
    "plt.plot([x[0], x_0], [y_0, y_0], '--')\n",
    "plt.plot([x_0, x_0], [0, y_0], '--')\n",
    "print(\"At x={0}, y={1:.3f}\".format(x_0, y_0))"
   ]
  },
  {
   "cell_type": "markdown",
   "metadata": {},
   "source": [
    "Some major properties of a CDF, defined as $F_X(x)$ are:\n",
    " \n",
    "* The range (the values y can take) are between (and including) 0 and 1. This comes from its use as a probability computation - see the next point. Formally, $0 <= F_X(x) <= 1$ for any value $x$\n",
    "* The likelihood a value is less than or equal to infinity must be 1, and the likelihood it is less than or equal to negative infinity must be 0. Formally, $F_X(-\\infty)=0$ and $F_X(\\infty)=1$\n",
    "* The CDF value is *increasing*. That is, it must have a positive or zero slope (but not a negative one). Formally, $F_X(a) <= F_X(b) \\text{ iff } a < b$\n",
    " \n",
    "Further, if your random variable has a domain, then the CDF is 0 for all values less than the minimum domain, and 1 for any value above the maximum of the domain.\n",
    "\n",
    "To find the probability that a random variable lies within a range, subtract the value of the CDF at the minimum from the value at the maximum:\n",
    "\n",
    "$P(a < X <= b) = F_X(b) - F_X(a)$\n",
    "\n",
    "For a continuous distribution (like the normal distribution), the CDF is a smooth graph. Its shape will vary, but will follow the general pattern as seen above.\n",
    "\n",
    "For a discrete distribution, the graph is still increasing, but represents a \"staircase\", where the value of $F_X(x)$ between valid values remains the same. For example, for a die roll, the value of $F_X(3) == F_X(3.1)$. This makes sense, as no values between 3.0 and 3.1 can be obtained on a die, so the value $P(X<=3)$ must be the same as $P(X<=3.1)$."
   ]
  },
  {
   "cell_type": "markdown",
   "metadata": {},
   "source": [
    "#### Exercises\n",
    "\n",
    "1. Plot the relationship between the mean of a normal distribution as $x$ (with a fixed standard deviation of 1), and the area under the curve between 0 and 1 as the $y$ axis.\n",
    "2. Remake the plot, but have the standard deviation vary as $x$, and the mean fixed as 0. How can you characterise the relationship?\n",
    "\n",
    "**Extended exercise**\n",
    "\n",
    "Plot the CDF for rolling two dice, where the x value is the sum of the two dice, and the y value is the CDF for the distribution."
   ]
  },
  {
   "cell_type": "code",
   "execution_count": 57,
   "metadata": {},
   "outputs": [],
   "source": [
    "# See solutions/cdf_relationships.py"
   ]
  }
 ],
 "metadata": {
  "kernelspec": {
   "display_name": "Python 3",
   "language": "python",
   "name": "python3"
  },
  "language_info": {
   "codemirror_mode": {
    "name": "ipython",
    "version": 3
   },
   "file_extension": ".py",
   "mimetype": "text/x-python",
   "name": "python",
   "nbconvert_exporter": "python",
   "pygments_lexer": "ipython3",
   "version": "3.7.2"
  }
 },
 "nbformat": 4,
 "nbformat_minor": 2
}
