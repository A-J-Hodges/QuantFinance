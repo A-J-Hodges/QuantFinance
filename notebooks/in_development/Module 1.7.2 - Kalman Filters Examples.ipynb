{
 "cells": [
  {
   "cell_type": "markdown",
   "metadata": {},
   "source": [
    "# Introduction to Quant Finance\n",
    "\n",
    "## Module 1.7: Kalman Filters \n",
    "\n",
    "### 1.7.2 Kalman Filters Examples\n",
    "\n",
    "In this module we will look at some examples of using Kalman filters in practice. We'll also start using a library for computing the Kalman filter, as it provides a more robust option than our roll-your-own solution from the previous notebook. While using a library is no guarantee that the code will be bug free, many libraries have significant effort put into their development, giving us a better likelihood of them having fewer bugs than our own code.\n",
    "\n",
    "Let's start with a straight-forward example, which is predicting stock prices with a Kalman filter. We are going to choose a stock with a long history and a seemingly stable price, and our theory is going to be that the stock is correctly valued and any major deviations will be corrected over time.\n"
   ]
  },
  {
   "cell_type": "code",
   "execution_count": 1,
   "metadata": {},
   "outputs": [],
   "source": [
    "%run setup.ipy"
   ]
  },
  {
   "cell_type": "code",
   "execution_count": 3,
   "metadata": {},
   "outputs": [
    {
     "name": "stdout",
     "output_type": "stream",
     "text": [
      "Collecting pykalman\n",
      "\u001b[?25l  Downloading https://files.pythonhosted.org/packages/2f/62/a4adc4516bd5974aa5583090199dd4b78d1e87018d14e9279f72ccbf0b9b/pykalman-0.9.5.tar.gz (228kB)\n",
      "\u001b[K    100% |████████████████████████████████| 235kB 7.4MB/s ta 0:00:01\n",
      "\u001b[?25hBuilding wheels for collected packages: pykalman\n",
      "  Running setup.py bdist_wheel for pykalman ... \u001b[?25ldone\n",
      "\u001b[?25h  Stored in directory: /home/rob/.cache/pip/wheels/d9/e8/6a/553d9832679cb74a8434fa597c3abdb07313e40054a0adf9ac\n",
      "Successfully built pykalman\n",
      "Installing collected packages: pykalman\n",
      "Successfully installed pykalman-0.9.5\n"
     ]
    }
   ],
   "source": [
    "!pip install pykalman"
   ]
  },
  {
   "cell_type": "code",
   "execution_count": 4,
   "metadata": {},
   "outputs": [],
   "source": [
    ">>> from pykalman import KalmanFilter\n",
    ">>> import numpy as np\n",
    ">>> kf = KalmanFilter(transition_matrices = [[1, 1], [0, 1]], observation_matrices = [[0.1, 0.5], [-0.3, 0.0]])\n",
    ">>> measurements = np.asarray([[1,0], [0,0], [0,1]])  # 3 observations\n",
    ">>> kf = kf.em(measurements, n_iter=5)\n",
    ">>> (filtered_state_means, filtered_state_covariances) = kf.filter(measurements)\n",
    ">>> (smoothed_state_means, smoothed_state_covariances) = kf.smooth(measurements)"
   ]
  },
  {
   "cell_type": "code",
   "execution_count": 6,
   "metadata": {},
   "outputs": [
    {
     "data": {
      "text/plain": [
       "array([[-0.67441149,  0.39899312],\n",
       "       [-0.81992226,  0.19109279],\n",
       "       [-1.72967476,  0.29641685]])"
      ]
     },
     "execution_count": 6,
     "metadata": {},
     "output_type": "execute_result"
    }
   ],
   "source": [
    "smoothed_state_means"
   ]
  },
  {
   "cell_type": "code",
   "execution_count": 7,
   "metadata": {},
   "outputs": [
    {
     "data": {
      "text/plain": [
       "array([[[ 0.22959645, -0.05069643],\n",
       "        [-0.05069643,  0.09444809]],\n",
       "\n",
       "       [[ 0.72264751, -0.02814856],\n",
       "        [-0.02814856,  0.25053408]],\n",
       "\n",
       "       [[ 1.16033437,  0.11983719],\n",
       "        [ 0.11983719,  0.41791538]]])"
      ]
     },
     "execution_count": 7,
     "metadata": {},
     "output_type": "execute_result"
    }
   ],
   "source": [
    "smoothed_state_covariances"
   ]
  },
  {
   "cell_type": "code",
   "execution_count": 9,
   "metadata": {},
   "outputs": [],
   "source": [
    "import quandl\n",
    "import my_secrets\n",
    "quandl.ApiConfig.api_key = my_secrets.QUANDL_API_KEY"
   ]
  },
  {
   "cell_type": "code",
   "execution_count": 14,
   "metadata": {},
   "outputs": [],
   "source": [
    "stocks = quandl.get(\"WIKI/IBM\")"
   ]
  },
  {
   "cell_type": "code",
   "execution_count": 17,
   "metadata": {},
   "outputs": [],
   "source": [
    "close = stocks['Adj. Close']"
   ]
  },
  {
   "cell_type": "code",
   "execution_count": 24,
   "metadata": {},
   "outputs": [],
   "source": [
    "movement = close.pct_change().dropna()"
   ]
  },
  {
   "cell_type": "code",
   "execution_count": 30,
   "metadata": {},
   "outputs": [
    {
     "data": {
      "text/plain": [
       "(-0.1, 0.1)"
      ]
     },
     "execution_count": 30,
     "metadata": {},
     "output_type": "execute_result"
    },
    {
     "data": {
      "image/png": "[encoded data removed]",
      "text/plain": [
       "<Figure size 432x288 with 1 Axes>"
      ]
     },
     "metadata": {
      "needs_background": "light"
     },
     "output_type": "display_data"
    }
   ],
   "source": [
    "fig = movement.plot()\n",
    "fig.set_ylim(-0.1, 0.1)  # Note there are quite a few outliers, such as a 30% drop!"
   ]
  },
  {
   "cell_type": "code",
   "execution_count": 31,
   "metadata": {},
   "outputs": [
    {
     "data": {
      "text/plain": [
       "0.0003066222958743595"
      ]
     },
     "execution_count": 31,
     "metadata": {},
     "output_type": "execute_result"
    }
   ],
   "source": [
    "movement.mean()  # basically 0"
   ]
  },
  {
   "cell_type": "code",
   "execution_count": 32,
   "metadata": {},
   "outputs": [],
   "source": [
    "kf = KalmanFilter()"
   ]
  },
  {
   "cell_type": "code",
   "execution_count": 34,
   "metadata": {},
   "outputs": [
    {
     "data": {
      "text/plain": [
       "<pykalman.standard.KalmanFilter at 0x7f764c07ada0>"
      ]
     },
     "execution_count": 34,
     "metadata": {},
     "output_type": "execute_result"
    }
   ],
   "source": [
    "kf.em(movement)"
   ]
  },
  {
   "cell_type": "code",
   "execution_count": null,
   "metadata": {},
   "outputs": [],
   "source": []
  }
 ],
 "metadata": {
  "kernelspec": {
   "display_name": "Python 3",
   "language": "python",
   "name": "python3"
  },
  "language_info": {
   "codemirror_mode": {
    "name": "ipython",
    "version": 3
   },
   "file_extension": ".py",
   "mimetype": "text/x-python",
   "name": "python",
   "nbconvert_exporter": "python",
   "pygments_lexer": "ipython3",
   "version": "3.6.8"
  }
 },
 "nbformat": 4,
 "nbformat_minor": 2
}
