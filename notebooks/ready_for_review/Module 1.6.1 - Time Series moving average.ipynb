{
 "cells": [
  {
   "cell_type": "markdown",
   "metadata": {},
   "source": [
    "# Introduction to Quant Finance\n",
    "\n",
    "## Module 1.6: Moving average\n",
    "\n",
    "### 1.6.1: Time Series moving average\n",
    "\n",
    "When reviewing how a time series changes (i.e. $\\Delta X_t$), the error itself is normally random (called *white noise*) over time, but may have some dependency on the previous value.\n",
    "\n",
    "For instance, if a stock increases in price one day, this may lead investors to sell their stock, leading to a decreasing (or a return to the mean) on the second day.\n",
    "\n",
    "If we denote a positive $\\epsilon_t$ to be an increase in buying for a given stock at time period $t$, we can model a stocks price change simply using the equation:\n",
    "\n",
    "$\\Delta p_t = \\epsilon_t - 0.5 \\epsilon_{t-1}$\n",
    "\n",
    "That is, the price increases if there is more buying today, with a negative factor if there was more buying yesterday. This type of model is known as a moving average process, specifically one of order 1 (because we only care about one time step in the past). We denote this model a $MA(n)$ process for time steps of $n$, and the one above is a $MA(1)$ process because it cares about one step in the past.\n",
    "\n",
    "Note: The process is an MA(1) process whether the coefficient on $\\epsilon_{t-1}$ is positive or negative.\n",
    "\n",
    "More formally, a MA(n) process is:\n",
    "\n",
    "$MA(p) X_t = \\mu + \\epsilon_{t} + \\sum_{i=1}^{p}\\theta_i\\epsilon_{t-i}$\n",
    "\n",
    "Where $\\mu$ is the error term (assumed to be iid) and $\\theta_i$ is a learned parameter in the model (learned, say, from an OLS). The equation for MA(1) is the same, but it is worth noting it, as you'll see the pattern in quite a few places. We'll drop $\\mu$ from the quation, and set $p=1$, giving:\n",
    "\n",
    "$MA(1)X_t = \\epsilon_t + \\theta \\epsilon_{t-1}$\n",
    "\n",
    "Notably, and importantly, $\\epsilon$ is assumed to be independently and identically distributed from a normal distribution with a mean of 0 and a standard deviation (of $\\sigma^2$). This is an important requirement, otherwise the model has other patterns in it that need to be modelled separately.\n",
    "\n",
    "<div class=\"alert alert-warning\">\n",
    "    In the above equation, we used $\\theta$ as the parameter, while our previous models used $\\beta$. It doesn't matter, they are the same thing. The choice here is due to two reasons. First, most textbooks use $\\theta$ in this spot. Second, we will combine an MA model with another model later, so we need the different symbols then.\n",
    "</div>\n",
    "\n",
    "<div class=\"alert alert-warning\">\n",
    "    Further, in the example, we modeled the change in some variable. This is not a requirement, as the values $X$ can be any variable, including (but not limited to) the change in value of some process.\n",
    "</div>"
   ]
  },
  {
   "cell_type": "code",
   "execution_count": 2,
   "metadata": {},
   "outputs": [],
   "source": [
    "%run setup.ipy"
   ]
  },
  {
   "cell_type": "code",
   "execution_count": 9,
   "metadata": {},
   "outputs": [],
   "source": [
    "# Generate some random data for our epsilons, remembering they are iid\n",
    "\n",
    "epsilons = np.random.randn(1000)"
   ]
  },
  {
   "cell_type": "code",
   "execution_count": 15,
   "metadata": {},
   "outputs": [],
   "source": [
    "theta = np.array([-0.5])\n",
    "\n",
    "X_t = epsilons[1:] + theta * epsilons[:-1]"
   ]
  },
  {
   "cell_type": "code",
   "execution_count": 16,
   "metadata": {},
   "outputs": [
    {
     "data": {
      "text/plain": [
       "[<matplotlib.lines.Line2D at 0x7f880e4474e0>]"
      ]
     },
     "execution_count": 16,
     "metadata": {},
     "output_type": "execute_result"
    },
    {
     "data": {
      "image/png": "[encoded data removed]",
      "text/plain": [
       "<Figure size 432x288 with 1 Axes>"
      ]
     },
     "metadata": {
      "needs_background": "light"
     },
     "output_type": "display_data"
    }
   ],
   "source": [
    "plt.plot(X_t)"
   ]
  },
  {
   "cell_type": "code",
   "execution_count": 24,
   "metadata": {},
   "outputs": [],
   "source": [
    "# Fit a MA model. statsmodels doesn't expose this nicely directly, so we use ARMA, and turn \"off\" the AR bit.\n",
    "# We will look at that later on, and the full ARMA model."
   ]
  },
  {
   "cell_type": "code",
   "execution_count": 25,
   "metadata": {},
   "outputs": [],
   "source": [
    "from statsmodels import api as sm\n",
    "model = sm.tsa.ARMA(X_t, order=(0, 1))"
   ]
  },
  {
   "cell_type": "code",
   "execution_count": 26,
   "metadata": {},
   "outputs": [],
   "source": [
    "results = model.fit()"
   ]
  },
  {
   "cell_type": "code",
   "execution_count": 27,
   "metadata": {},
   "outputs": [
    {
     "data": {
      "text/html": [
       "<table class=\"simpletable\">\n",
       "<caption>ARMA Model Results</caption>\n",
       "<tr>\n",
       "  <th>Dep. Variable:</th>         <td>y</td>        <th>  No. Observations:  </th>    <td>999</td>   \n",
       "</tr>\n",
       "<tr>\n",
       "  <th>Model:</th>            <td>ARMA(0, 1)</td>    <th>  Log Likelihood     </th> <td>-1447.894</td>\n",
       "</tr>\n",
       "<tr>\n",
       "  <th>Method:</th>             <td>css-mle</td>     <th>  S.D. of innovations</th>   <td>1.031</td>  \n",
       "</tr>\n",
       "<tr>\n",
       "  <th>Date:</th>          <td>Sat, 09 Mar 2019</td> <th>  AIC                </th> <td>2901.787</td> \n",
       "</tr>\n",
       "<tr>\n",
       "  <th>Time:</th>              <td>14:13:32</td>     <th>  BIC                </th> <td>2916.508</td> \n",
       "</tr>\n",
       "<tr>\n",
       "  <th>Sample:</th>                <td>0</td>        <th>  HQIC               </th> <td>2907.382</td> \n",
       "</tr>\n",
       "<tr>\n",
       "  <th></th>                       <td> </td>        <th>                     </th>     <td> </td>    \n",
       "</tr>\n",
       "</table>\n",
       "<table class=\"simpletable\">\n",
       "<tr>\n",
       "     <td></td>        <th>coef</th>     <th>std err</th>      <th>z</th>      <th>P>|z|</th>  <th>[0.025</th>    <th>0.975]</th>  \n",
       "</tr>\n",
       "<tr>\n",
       "  <th>const</th>   <td>   -0.0029</td> <td>    0.016</td> <td>   -0.183</td> <td> 0.855</td> <td>   -0.034</td> <td>    0.028</td>\n",
       "</tr>\n",
       "<tr>\n",
       "  <th>ma.L1.y</th> <td>   -0.5164</td> <td>    0.029</td> <td>  -17.917</td> <td> 0.000</td> <td>   -0.573</td> <td>   -0.460</td>\n",
       "</tr>\n",
       "</table>\n",
       "<table class=\"simpletable\">\n",
       "<caption>Roots</caption>\n",
       "<tr>\n",
       "    <td></td>   <th>            Real</th>  <th>         Imaginary</th> <th>         Modulus</th>  <th>        Frequency</th>\n",
       "</tr>\n",
       "<tr>\n",
       "  <th>MA.1</th> <td>           1.9364</td> <td>          +0.0000j</td> <td>           1.9364</td> <td>           0.0000</td>\n",
       "</tr>\n",
       "</table>"
      ],
      "text/plain": [
       "<class 'statsmodels.iolib.summary.Summary'>\n",
       "\"\"\"\n",
       "                              ARMA Model Results                              \n",
       "==============================================================================\n",
       "Dep. Variable:                      y   No. Observations:                  999\n",
       "Model:                     ARMA(0, 1)   Log Likelihood               -1447.894\n",
       "Method:                       css-mle   S.D. of innovations              1.031\n",
       "Date:                Sat, 09 Mar 2019   AIC                           2901.787\n",
       "Time:                        14:13:32   BIC                           2916.508\n",
       "Sample:                             0   HQIC                          2907.382\n",
       "                                                                              \n",
       "==============================================================================\n",
       "                 coef    std err          z      P>|z|      [0.025      0.975]\n",
       "------------------------------------------------------------------------------\n",
       "const         -0.0029      0.016     -0.183      0.855      -0.034       0.028\n",
       "ma.L1.y       -0.5164      0.029    -17.917      0.000      -0.573      -0.460\n",
       "                                    Roots                                    \n",
       "=============================================================================\n",
       "                  Real          Imaginary           Modulus         Frequency\n",
       "-----------------------------------------------------------------------------\n",
       "MA.1            1.9364           +0.0000j            1.9364            0.0000\n",
       "-----------------------------------------------------------------------------\n",
       "\"\"\""
      ]
     },
     "execution_count": 27,
     "metadata": {},
     "output_type": "execute_result"
    }
   ],
   "source": [
    "results.summary()"
   ]
  },
  {
   "cell_type": "markdown",
   "metadata": {},
   "source": [
    "Note the coefficient for `ma.L1.y` is approximately our theta value from where we created this data - the model fit it well. The constant coefficient is zero too, which indicates it \"learned\" the zero mean correctly."
   ]
  },
  {
   "cell_type": "code",
   "execution_count": 28,
   "metadata": {},
   "outputs": [],
   "source": [
    "import quandl\n",
    "\n",
    "interest_rates = quandl.get(\"RBA/F13_FOOIRATCR\")\n",
    "interest_rates = interest_rates[interest_rates.columns[0]]  # Extract the first column, whatever it is called\n",
    "interest_rates.name = \"InterestRate\"  # Rename, as the original had a long name. Hint: don't use spaces or special chars"
   ]
  },
  {
   "cell_type": "code",
   "execution_count": 52,
   "metadata": {},
   "outputs": [],
   "source": [
    "model = sm.tsa.ARMA(interest, order=(0, 1))\n",
    "interest_results = model.fit()"
   ]
  },
  {
   "cell_type": "code",
   "execution_count": 53,
   "metadata": {},
   "outputs": [
    {
     "data": {
      "text/html": [
       "<table class=\"simpletable\">\n",
       "<caption>ARMA Model Results</caption>\n",
       "<tr>\n",
       "  <th>Dep. Variable:</th>         <td>y</td>        <th>  No. Observations:  </th>   <td>349</td>  \n",
       "</tr>\n",
       "<tr>\n",
       "  <th>Model:</th>            <td>ARMA(0, 1)</td>    <th>  Log Likelihood     </th> <td>-11.835</td>\n",
       "</tr>\n",
       "<tr>\n",
       "  <th>Method:</th>             <td>css-mle</td>     <th>  S.D. of innovations</th>  <td>0.250</td> \n",
       "</tr>\n",
       "<tr>\n",
       "  <th>Date:</th>          <td>Sat, 09 Mar 2019</td> <th>  AIC                </th> <td>29.671</td> \n",
       "</tr>\n",
       "<tr>\n",
       "  <th>Time:</th>              <td>14:18:18</td>     <th>  BIC                </th> <td>41.236</td> \n",
       "</tr>\n",
       "<tr>\n",
       "  <th>Sample:</th>                <td>0</td>        <th>  HQIC               </th> <td>34.275</td> \n",
       "</tr>\n",
       "<tr>\n",
       "  <th></th>                       <td> </td>        <th>                     </th>    <td> </td>   \n",
       "</tr>\n",
       "</table>\n",
       "<table class=\"simpletable\">\n",
       "<tr>\n",
       "     <td></td>        <th>coef</th>     <th>std err</th>      <th>z</th>      <th>P>|z|</th>  <th>[0.025</th>    <th>0.975]</th>  \n",
       "</tr>\n",
       "<tr>\n",
       "  <th>const</th>   <td>   -0.0445</td> <td>    0.014</td> <td>   -3.109</td> <td> 0.002</td> <td>   -0.073</td> <td>   -0.016</td>\n",
       "</tr>\n",
       "<tr>\n",
       "  <th>ma.L1.y</th> <td>    0.0684</td> <td>    0.039</td> <td>    1.763</td> <td> 0.079</td> <td>   -0.008</td> <td>    0.145</td>\n",
       "</tr>\n",
       "</table>\n",
       "<table class=\"simpletable\">\n",
       "<caption>Roots</caption>\n",
       "<tr>\n",
       "    <td></td>   <th>            Real</th>  <th>         Imaginary</th> <th>         Modulus</th>  <th>        Frequency</th>\n",
       "</tr>\n",
       "<tr>\n",
       "  <th>MA.1</th> <td>         -14.6119</td> <td>          +0.0000j</td> <td>          14.6119</td> <td>           0.5000</td>\n",
       "</tr>\n",
       "</table>"
      ],
      "text/plain": [
       "<class 'statsmodels.iolib.summary.Summary'>\n",
       "\"\"\"\n",
       "                              ARMA Model Results                              \n",
       "==============================================================================\n",
       "Dep. Variable:                      y   No. Observations:                  349\n",
       "Model:                     ARMA(0, 1)   Log Likelihood                 -11.835\n",
       "Method:                       css-mle   S.D. of innovations              0.250\n",
       "Date:                Sat, 09 Mar 2019   AIC                             29.671\n",
       "Time:                        14:18:18   BIC                             41.236\n",
       "Sample:                             0   HQIC                            34.275\n",
       "                                                                              \n",
       "==============================================================================\n",
       "                 coef    std err          z      P>|z|      [0.025      0.975]\n",
       "------------------------------------------------------------------------------\n",
       "const         -0.0445      0.014     -3.109      0.002      -0.073      -0.016\n",
       "ma.L1.y        0.0684      0.039      1.763      0.079      -0.008       0.145\n",
       "                                    Roots                                    \n",
       "=============================================================================\n",
       "                  Real          Imaginary           Modulus         Frequency\n",
       "-----------------------------------------------------------------------------\n",
       "MA.1          -14.6119           +0.0000j           14.6119            0.5000\n",
       "-----------------------------------------------------------------------------\n",
       "\"\"\""
      ]
     },
     "execution_count": 53,
     "metadata": {},
     "output_type": "execute_result"
    }
   ],
   "source": [
    "interest_results.summary()"
   ]
  },
  {
   "cell_type": "markdown",
   "metadata": {},
   "source": [
    "### Exercises\n",
    "\n",
    "1. Fit an MA model to a stock price (the solution uses AAPL).\n",
    "2. What are the coefficients on the constant and lag? What does this mean?\n",
    "3. Fit the model on the change in stock price, rather than the actual price.\n",
    "4. What are the coefficients, and how does that relate to the change in price?\n",
    "\n",
    "\n",
    "### Extended Exercise\n",
    "\n",
    "We are going to drill right down now into a small dataset and observe how a $\\epsilon$ value changes the result of the MA(1) model. Create a small dataset of just ten $\\epsilon$ values of random 0s and 1s. Visualise the resulting MA model with a theta value of 0.5, -0.5, 2, -2, 100 and -100. Observe how runs of 0s and 1s are affected, and how a value affects the next time period in the series."
   ]
  },
  {
   "cell_type": "code",
   "execution_count": 82,
   "metadata": {},
   "outputs": [],
   "source": [
    "# Exercise solution\n",
    "import my_secrets\n",
    "quandl.ApiConfig.api_key = my_secrets.QUANDL_API_KEY"
   ]
  },
  {
   "cell_type": "code",
   "execution_count": 56,
   "metadata": {},
   "outputs": [],
   "source": [
    "data = quandl.get_table('WIKI/PRICES', ticker = ['AAPL'], \n",
    "                        qopts = { 'columns': ['adj_close'] }, \n",
    "                        date = { 'gte': '2017-01-01', 'lte': '2019-01-01' }, \n",
    "                        paginate=True)"
   ]
  },
  {
   "cell_type": "code",
   "execution_count": 62,
   "metadata": {},
   "outputs": [
    {
     "name": "stderr",
     "output_type": "stream",
     "text": [
      "/home/rob/anaconda3/envs/quant/lib/python3.6/site-packages/statsmodels/tsa/base/tsa_model.py:221: ValueWarning: An unsupported index was provided and will be ignored when e.g. forecasting.\n",
      "  ' ignored when e.g. forecasting.', ValueWarning)\n"
     ]
    }
   ],
   "source": [
    "changes = data['adj_close'].diff().dropna()\n",
    "model = sm.tsa.ARMA(changes, order=(0,1))\n",
    "stock_results= model.fit()"
   ]
  },
  {
   "cell_type": "code",
   "execution_count": 63,
   "metadata": {},
   "outputs": [
    {
     "data": {
      "text/html": [
       "<table class=\"simpletable\">\n",
       "<caption>ARMA Model Results</caption>\n",
       "<tr>\n",
       "  <th>Dep. Variable:</th>     <td>adj_close</td>    <th>  No. Observations:  </th>    <td>307</td>  \n",
       "</tr>\n",
       "<tr>\n",
       "  <th>Model:</th>            <td>ARMA(0, 1)</td>    <th>  Log Likelihood     </th> <td>-641.062</td>\n",
       "</tr>\n",
       "<tr>\n",
       "  <th>Method:</th>             <td>css-mle</td>     <th>  S.D. of innovations</th>   <td>1.953</td> \n",
       "</tr>\n",
       "<tr>\n",
       "  <th>Date:</th>          <td>Sat, 09 Mar 2019</td> <th>  AIC                </th> <td>1288.124</td>\n",
       "</tr>\n",
       "<tr>\n",
       "  <th>Time:</th>              <td>14:24:06</td>     <th>  BIC                </th> <td>1299.305</td>\n",
       "</tr>\n",
       "<tr>\n",
       "  <th>Sample:</th>                <td>0</td>        <th>  HQIC               </th> <td>1292.595</td>\n",
       "</tr>\n",
       "<tr>\n",
       "  <th></th>                       <td> </td>        <th>                     </th>     <td> </td>   \n",
       "</tr>\n",
       "</table>\n",
       "<table class=\"simpletable\">\n",
       "<tr>\n",
       "         <td></td>            <th>coef</th>     <th>std err</th>      <th>z</th>      <th>P>|z|</th>  <th>[0.025</th>    <th>0.975]</th>  \n",
       "</tr>\n",
       "<tr>\n",
       "  <th>const</th>           <td>   -0.1741</td> <td>    0.115</td> <td>   -1.513</td> <td> 0.131</td> <td>   -0.400</td> <td>    0.051</td>\n",
       "</tr>\n",
       "<tr>\n",
       "  <th>ma.L1.adj_close</th> <td>    0.0327</td> <td>    0.062</td> <td>    0.528</td> <td> 0.598</td> <td>   -0.089</td> <td>    0.154</td>\n",
       "</tr>\n",
       "</table>\n",
       "<table class=\"simpletable\">\n",
       "<caption>Roots</caption>\n",
       "<tr>\n",
       "    <td></td>   <th>            Real</th>  <th>         Imaginary</th> <th>         Modulus</th>  <th>        Frequency</th>\n",
       "</tr>\n",
       "<tr>\n",
       "  <th>MA.1</th> <td>         -30.5971</td> <td>          +0.0000j</td> <td>          30.5971</td> <td>           0.5000</td>\n",
       "</tr>\n",
       "</table>"
      ],
      "text/plain": [
       "<class 'statsmodels.iolib.summary.Summary'>\n",
       "\"\"\"\n",
       "                              ARMA Model Results                              \n",
       "==============================================================================\n",
       "Dep. Variable:              adj_close   No. Observations:                  307\n",
       "Model:                     ARMA(0, 1)   Log Likelihood                -641.062\n",
       "Method:                       css-mle   S.D. of innovations              1.953\n",
       "Date:                Sat, 09 Mar 2019   AIC                           1288.124\n",
       "Time:                        14:24:06   BIC                           1299.305\n",
       "Sample:                             0   HQIC                          1292.595\n",
       "                                                                              \n",
       "===================================================================================\n",
       "                      coef    std err          z      P>|z|      [0.025      0.975]\n",
       "-----------------------------------------------------------------------------------\n",
       "const              -0.1741      0.115     -1.513      0.131      -0.400       0.051\n",
       "ma.L1.adj_close     0.0327      0.062      0.528      0.598      -0.089       0.154\n",
       "                                    Roots                                    \n",
       "=============================================================================\n",
       "                  Real          Imaginary           Modulus         Frequency\n",
       "-----------------------------------------------------------------------------\n",
       "MA.1          -30.5971           +0.0000j           30.5971            0.5000\n",
       "-----------------------------------------------------------------------------\n",
       "\"\"\""
      ]
     },
     "execution_count": 63,
     "metadata": {},
     "output_type": "execute_result"
    }
   ],
   "source": [
    "stock_results.summary()"
   ]
  },
  {
   "cell_type": "code",
   "execution_count": 80,
   "metadata": {},
   "outputs": [
    {
     "name": "stdout",
     "output_type": "stream",
     "text": [
      "theta:  -2\n",
      "0.5\n"
     ]
    }
   ],
   "source": [
    "# Extended exercise solution\n",
    "epsilons = np.array([0, 0, 0, 1, 0, 1, 1, 1, 1, 0]) # Try different combinations here.\n",
    "\n",
    "theta = -2\n",
    "print(\"theta: \", theta)\n",
    "\n",
    "X = epsilons[1:] + theta * epsilons[:-1]\n",
    "print(np.mean(epsilons))"
   ]
  },
  {
   "cell_type": "code",
   "execution_count": 81,
   "metadata": {},
   "outputs": [
    {
     "data": {
      "text/plain": [
       "[<matplotlib.lines.Line2D at 0x7f88032f19e8>]"
      ]
     },
     "execution_count": 81,
     "metadata": {},
     "output_type": "execute_result"
    },
    {
     "data": {
      "image/png": "[encoded data removed]",
      "text/plain": [
       "<Figure size 432x288 with 1 Axes>"
      ]
     },
     "metadata": {
      "needs_background": "light"
     },
     "output_type": "display_data"
    }
   ],
   "source": [
    "plt.plot(X)"
   ]
  },
  {
   "cell_type": "markdown",
   "metadata": {},
   "source": [
    "### Properties of MA(1)\n",
    "\n",
    "We can identify that the MA(1) process has an expected value of zero. Because the $\\epsilon$ terms are iid with a mean of 0, the expected value for these values is 0. This gives us:\n",
    "\n",
    "$E[X_t] = E[\\epsilon_t + \\theta \\epsilon_{t-1}] = E[\\epsilon_t] + \\theta E[\\epsilon_{t-1}] = 0$\n",
    "\n",
    "Also note that $\\theta$ is constant.\n",
    "\n",
    "Next, we know the variance of $X_t$, again, because the values of $\\epsilon$ are iid, with a mean of 0, and a standard deviation of $\\sigma^2$ (from the definition). This gives us:\n",
    "\n",
    "$Var(X_t) = Var(\\epsilon_{t} + \\theta \\epsilon_{t-1} = Var(\\epsilon_{t}) + \\theta^2 Var(\\epsilon_{t-1})$\n",
    "\n",
    "Plugging in the known $Var(\\epsilon_{t}) = \\sigma^2$ gives us:\n",
    "\n",
    "$Var(X_t) = \\sigma^2 + \\theta^2\\sigma^2 = \\sigma^2(1 + \\theta^2)$\n",
    "\n",
    "Finally, we could intuitively guess that the covariance at lagged intervales would approximate 0 for lags larger than the period of the MA model. More formally, if $i > 1$, then :\n",
    "\n",
    "$Cov(X_t, X_{t-i}) = Cov(\\epsilon_{t} + \\theta\\epsilon_{t-1}, \\epsilon_{t-i} + \\theta\\epsilon_{t-i-i}) = 0$\n",
    "\n",
    "This is because $\\epsilon_{t}$ is iid (sidenote: this is a very useful property in statistics!) and there are no terms overlapping between the two $X$ lags being computed on. However, when $i=1$ there is an overlap, and the covariance is no longer 0:\n",
    "\n",
    "$Cov(X_t, X_{t-1}) = Cov(\\epsilon_{t} + \\theta\\epsilon_{t-1}, \\epsilon_{t-1} + \\theta\\epsilon_{t-2})$\n",
    "\n",
    "Once more, as $\\epsilon_{t}$ is iid, when we expand this covariance, we only need to evaluate $Cov(\\theta\\epsilon_{t-1}, \\epsilon_{t-1})$ as $Cov(\\epsilon_{t}, \\epsilon_{t+h})=0$ whenever $h \\neq 0$.\n",
    "\n",
    "$Cov(X_t, X_{t-1}) = \\theta Cov(\\epsilon_{t-1}, \\epsilon_{t-1}) = \\theta \\sigma^2$\n",
    "\n",
    "As $Cov(X_t, X_t+h)$ only depends on $h$ (i.e. only the lag matters, not when it was), the covariance doesn't change with time.\n",
    "\n",
    "These three properties indicate that the MA(1) process is stationary. A property we will look at further in the next module."
   ]
  },
  {
   "cell_type": "markdown",
   "metadata": {},
   "source": [
    "### Extended Exercise\n",
    "\n",
    "Do these three properties hold for a MA(2) model?"
   ]
  }
 ],
 "metadata": {
  "kernelspec": {
   "display_name": "Python 3",
   "language": "python",
   "name": "python3"
  },
  "language_info": {
   "codemirror_mode": {
    "name": "ipython",
    "version": 3
   },
   "file_extension": ".py",
   "mimetype": "text/x-python",
   "name": "python",
   "nbconvert_exporter": "python",
   "pygments_lexer": "ipython3",
   "version": "3.6.8"
  }
 },
 "nbformat": 4,
 "nbformat_minor": 2
}
