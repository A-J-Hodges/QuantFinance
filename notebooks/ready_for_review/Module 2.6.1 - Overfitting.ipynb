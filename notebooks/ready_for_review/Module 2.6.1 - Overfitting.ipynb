{
 "cells": [
  {
   "cell_type": "markdown",
   "metadata": {},
   "source": [
    "# Introduction to Quant Finance\n",
    "\n",
    "## Module 2.6: Overfitting\n",
    "\n",
    "### 2.6.1 Problems with Overfitting \n",
    "\n",
    "We reviewed overfitting and underfitting in previous modules. In this module we will cover overfitting in more detail. Underfitting is the case when your model is too simplistic to describe the data. For instance, trying to fit seasonal data with a linear regression model and no seasonal variables.\n",
    "\n",
    "Overfitting is the opposite, when your model is *too* complicated for your data, leading to the model learning too much. This may not sound like a problem, but it leads to a situation where you have a very low error in your training data with a very **high** error in your testing data. The cause? Your model is learning the inherent noise in your dataset, that would be smoothed out or ignored in a simpler model.\n",
    "\n",
    "This also explains why simpler models are often chosen for many problems. This whole series of modules has looked at linear models, ARIMA and GARCH as the main model types. Each of these is a fairly simple relationship of inputs to outputs. While you can use them in complicated ways, the simplicity of the models allows for noise to be smootehd out, and the underlying trends and concepts to be learned.\n",
    "\n",
    "To see overfitting in data, fit a polynomial with a high degree to some linear data with noise:"
   ]
  },
  {
   "cell_type": "code",
   "execution_count": 1,
   "metadata": {},
   "outputs": [],
   "source": [
    "%run setup.ipy"
   ]
  },
  {
   "cell_type": "code",
   "execution_count": 2,
   "metadata": {},
   "outputs": [],
   "source": [
    "# y = mx + c + e\n",
    "x = np.linspace(0, 10, 30)\n",
    "error = np.random.randn(len(x)) * 5\n",
    "y = x * 3 + 1 + error"
   ]
  },
  {
   "cell_type": "code",
   "execution_count": 3,
   "metadata": {},
   "outputs": [
    {
     "data": {
      "text/plain": [
       "[<matplotlib.lines.Line2D at 0x7fb85fe2c978>]"
      ]
     },
     "execution_count": 3,
     "metadata": {},
     "output_type": "execute_result"
    },
    {
     "data": {
      "image/png": "[encoded data removed]",
      "text/plain": [
       "<Figure size 432x288 with 1 Axes>"
      ]
     },
     "metadata": {
      "needs_background": "light"
     },
     "output_type": "display_data"
    }
   ],
   "source": [
    "plt.plot(x, y, 'ro')"
   ]
  },
  {
   "cell_type": "markdown",
   "metadata": {},
   "source": [
    "Here is what an appropriate model will find in this data:"
   ]
  },
  {
   "cell_type": "code",
   "execution_count": 4,
   "metadata": {},
   "outputs": [
    {
     "data": {
      "text/plain": [
       "[<matplotlib.lines.Line2D at 0x7fb85fe24ac8>]"
      ]
     },
     "execution_count": 4,
     "metadata": {},
     "output_type": "execute_result"
    },
    {
     "data": {
      "image/png": "[encoded data removed]",
      "text/plain": [
       "<Figure size 432x288 with 1 Axes>"
      ]
     },
     "metadata": {
      "needs_background": "light"
     },
     "output_type": "display_data"
    }
   ],
   "source": [
    "# Fit a linear model\n",
    "params = np.polyfit(x, y, deg=1)\n",
    "model = np.poly1d(params)\n",
    "\n",
    "y_pred_linear = model(x)\n",
    "plt.plot(x, y, 'ro', alpha=0.5)\n",
    "plt.plot(x, y_pred_linear)"
   ]
  },
  {
   "cell_type": "markdown",
   "metadata": {},
   "source": [
    "Here is a model that is overfitting:"
   ]
  },
  {
   "cell_type": "code",
   "execution_count": 5,
   "metadata": {},
   "outputs": [],
   "source": [
    "# Fit a polynomial with degree 30!\n",
    "params_30 = np.polyfit(x, y, deg=10)"
   ]
  },
  {
   "cell_type": "code",
   "execution_count": 6,
   "metadata": {},
   "outputs": [
    {
     "data": {
      "text/plain": [
       "[<matplotlib.lines.Line2D at 0x7fb85fd8da90>]"
      ]
     },
     "execution_count": 6,
     "metadata": {},
     "output_type": "execute_result"
    },
    {
     "data": {
      "image/png": "[encoded data removed]",
      "text/plain": [
       "<Figure size 432x288 with 1 Axes>"
      ]
     },
     "metadata": {
      "needs_background": "light"
     },
     "output_type": "display_data"
    }
   ],
   "source": [
    "model_30 = np.poly1d(params_30)\n",
    "\n",
    "y_pred_overfit = model_30(x)\n",
    "plt.plot(x, y, 'ro', alpha=0.5)\n",
    "plt.plot(x, y_pred_overfit)"
   ]
  },
  {
   "cell_type": "markdown",
   "metadata": {},
   "source": [
    "Note how, even though there is a clear linear trend, the line-of-\"best\"-fit wobbles through the data? The model has too much freedom, and ends up trusting the data too much.\n",
    "\n",
    "\n",
    "\n",
    "### Exercise\n",
    "\n",
    "To see the effect of overfitting, let's create a new dataset using the same formula as before, and compute the difference in SSE (sum squared error) for both models.\n",
    "\n",
    "1. Create new data by choosing 50 points randomly from 0 to 100 (see `np.random.random`)\n",
    "2. Create new y values with random error from the same distribution we originally created `y` from (same error, same m and c values)\n",
    "3. Compute the training error. That is, the difference between `y_pred_linear` and `y`, and the difference between  `y_pred_overfit` and `y`. Which model has a lower training error?\n",
    "4. Retrain the model with a sample from the training data. Notice how the parameters change significantly as you keep sampling the data. \n",
    "\n",
    "The results you see in this exercise are also shown if you were to choose another sample from the original dataset. In other words, this model is not stable because it is overfitting."
   ]
  },
  {
   "cell_type": "code",
   "execution_count": 7,
   "metadata": {},
   "outputs": [],
   "source": [
    "# Solution"
   ]
  },
  {
   "cell_type": "code",
   "execution_count": 8,
   "metadata": {},
   "outputs": [],
   "source": [
    "# 50 points randomly from 0 to 100\n",
    "x_test = np.random.random(50) * 100\n",
    "error_test = np.random.randn(len(x_test)) * 5\n",
    "y_test = x_test * 3 + 1 + error_test"
   ]
  },
  {
   "cell_type": "code",
   "execution_count": 9,
   "metadata": {},
   "outputs": [
    {
     "name": "stdout",
     "output_type": "stream",
     "text": [
      "723.4769614614903 608.9488947301977\n"
     ]
    }
   ],
   "source": [
    "# Training errors\n",
    "SSE_linear = np.sum((y_pred_linear - y) ** 2)\n",
    "SSE_overfit = np.sum((y_pred_overfit - y) ** 2)\n",
    "\n",
    "print(SSE_linear, SSE_overfit)  # Overfit is lower for training error"
   ]
  },
  {
   "cell_type": "code",
   "execution_count": 10,
   "metadata": {},
   "outputs": [
    {
     "data": {
      "text/plain": [
       "[<matplotlib.lines.Line2D at 0x7fb85fd24b38>]"
      ]
     },
     "execution_count": 10,
     "metadata": {},
     "output_type": "execute_result"
    },
    {
     "data": {
      "image/png": "[encoded data removed]",
      "text/plain": [
       "<Figure size 432x288 with 1 Axes>"
      ]
     },
     "metadata": {
      "needs_background": "light"
     },
     "output_type": "display_data"
    }
   ],
   "source": [
    "plt.plot(x_test, y_test, 'go', alpha=0.5)"
   ]
  },
  {
   "cell_type": "code",
   "execution_count": 11,
   "metadata": {},
   "outputs": [],
   "source": [
    "y_est_linear = model(x_test)\n",
    "y_est_poly = model_30(x_test)"
   ]
  },
  {
   "cell_type": "code",
   "execution_count": 12,
   "metadata": {},
   "outputs": [
    {
     "name": "stdout",
     "output_type": "stream",
     "text": [
      "9858.167900540204 3.6683226866285553e+30\n"
     ]
    }
   ],
   "source": [
    "# Training errors\n",
    "SSE_est_linear = np.sum((y_est_linear - y_test) ** 2)\n",
    "SSE_est_overfit = np.sum((y_est_poly - y_test) ** 2)\n",
    "\n",
    "print(SSE_est_linear, SSE_est_overfit)  # SSE is **very** high for the overfit model."
   ]
  },
  {
   "cell_type": "markdown",
   "metadata": {},
   "source": [
    "### Overfitting with too many variables\n",
    "\n",
    "Overfitting can be caused by a large number of factors. In the above, overfitting was caused by the model being too complex. Overfitting can also happen when you have too many input variables, even if some of them are just random noise!\n",
    "\n",
    "What happens in this case, is that unusual patterns are picked up in the data, leading to pattern matching algorithms (of which all the algorithms we have seen so far are) finding patterns in noise, rather than underlying trends. It results in the same problem overly-complex models to - low training error, high testing error. The cause this time is that the coincidental patterns in the training data are usually not present in the testing data, so they no longer work.\n",
    "\n",
    "This is a case of spurious correlations. For a humourous look at this problem, see http://www.tylervigen.com/spurious-correlations\n",
    "\n",
    "![Spurious Correlation](img/spurious.png)\n",
    "\n",
    "<small>Note: The above data has a correlation $r=0.95$</small>\n",
    "\n",
    "If you compare enough variables, you *will* find a correlation. Whether that makes sense or not is your job as an analyst. \n",
    "\n",
    "All to often in the \"big data\" age, we simply think \"add more data until the computer learns\", but the actual case is the opposite - too much data leads to incorrect learning and wasted effort.\n",
    "\n",
    "To see this in action, we'll download all stock prices for the S&P500, and then use those to predict AAPL:"
   ]
  },
  {
   "cell_type": "code",
   "execution_count": 17,
   "metadata": {},
   "outputs": [],
   "source": [
    "# Let's extract a large number of stocks\n",
    "import quandl\n",
    "import my_secrets\n",
    "quandl.ApiConfig.api_key = my_secrets.QUANDL_API_KEY"
   ]
  },
  {
   "cell_type": "code",
   "execution_count": 18,
   "metadata": {},
   "outputs": [],
   "source": [
    "with open(\"data/sp500.csv\") as inf:\n",
    "    stocks = inf.readlines()[1:]  # Skip header\n",
    "    # Remove whitespace around stocks, ignore empty lines (like the last one)\n",
    "    stocks = [stock.strip() for stock in stocks if stock.strip()]"
   ]
  },
  {
   "cell_type": "code",
   "execution_count": 19,
   "metadata": {},
   "outputs": [
    {
     "data": {
      "text/plain": [
       "['MMM', 'ABT', 'ABBV', 'ABMD', 'ACN']"
      ]
     },
     "execution_count": 19,
     "metadata": {},
     "output_type": "execute_result"
    }
   ],
   "source": [
    "stocks[:5]"
   ]
  },
  {
   "cell_type": "code",
   "execution_count": 30,
   "metadata": {},
   "outputs": [
    {
     "name": "stdout",
     "output_type": "stream",
     "text": [
      "Downloading batch 0\n",
      "Downloading batch 10\n",
      "Downloading batch 20\n",
      "Downloading batch 30\n",
      "Downloading batch 40\n",
      "Downloading batch 50\n",
      "Downloading batch 60\n",
      "Downloading batch 70\n",
      "Downloading batch 80\n",
      "Downloading batch 90\n",
      "Downloading batch 100\n",
      "Downloading batch 110\n",
      "Downloading batch 120\n",
      "Downloading batch 130\n",
      "Downloading batch 140\n",
      "Downloading batch 150\n",
      "Downloading batch 160\n",
      "Downloading batch 170\n",
      "Downloading batch 180\n",
      "Downloading batch 190\n",
      "Downloading batch 200\n",
      "Downloading batch 210\n",
      "Downloading batch 220\n",
      "Downloading batch 230\n",
      "Downloading batch 240\n",
      "Downloading batch 250\n",
      "Downloading batch 260\n",
      "Downloading batch 270\n",
      "Downloading batch 280\n",
      "Downloading batch 290\n",
      "Downloading batch 300\n",
      "Downloading batch 310\n",
      "Downloading batch 320\n",
      "Downloading batch 330\n",
      "Downloading batch 340\n",
      "Downloading batch 350\n",
      "Downloading batch 360\n",
      "Downloading batch 370\n",
      "Downloading batch 380\n",
      "Downloading batch 390\n",
      "Downloading batch 400\n",
      "Downloading batch 410\n",
      "Downloading batch 420\n",
      "Downloading batch 430\n",
      "Downloading batch 440\n",
      "Downloading batch 450\n",
      "Downloading batch 460\n",
      "Downloading batch 470\n",
      "Downloading batch 480\n",
      "Downloading batch 490\n",
      "Downloading batch 500\n"
     ]
    }
   ],
   "source": [
    "import time\n",
    "\n",
    "# Too many to download in one go - get in batches instead\n",
    "batches = []\n",
    "batch_size = 10\n",
    "\n",
    "for i in range(0, len(stocks), batch_size):\n",
    "    print(\"Downloading batch {}\".format(i))\n",
    "    current_batch = quandl.get_table('WIKI/PRICES', ticker = stocks[i:i+batch_size], \n",
    "                            qopts = { 'columns': ['ticker', 'date', 'adj_close'] }, \n",
    "                            date = { 'gte': '2017-01-01', 'lte': '2019-01-01' }, \n",
    "                            paginate=True)\n",
    "    batches.append(current_batch)\n",
    "    time.sleep(1)"
   ]
  },
  {
   "cell_type": "code",
   "execution_count": 32,
   "metadata": {},
   "outputs": [
    {
     "data": {
      "text/html": [
       "<div>\n",
       "<style scoped>\n",
       "    .dataframe tbody tr th:only-of-type {\n",
       "        vertical-align: middle;\n",
       "    }\n",
       "\n",
       "    .dataframe tbody tr th {\n",
       "        vertical-align: top;\n",
       "    }\n",
       "\n",
       "    .dataframe thead th {\n",
       "        text-align: right;\n",
       "    }\n",
       "</style>\n",
       "<table border=\"1\" class=\"dataframe\">\n",
       "  <thead>\n",
       "    <tr style=\"text-align: right;\">\n",
       "      <th></th>\n",
       "      <th>ticker</th>\n",
       "      <th>date</th>\n",
       "      <th>adj_close</th>\n",
       "    </tr>\n",
       "    <tr>\n",
       "      <th>None</th>\n",
       "      <th></th>\n",
       "      <th></th>\n",
       "      <th></th>\n",
       "    </tr>\n",
       "  </thead>\n",
       "  <tbody>\n",
       "    <tr>\n",
       "      <th>0</th>\n",
       "      <td>ZTS</td>\n",
       "      <td>2018-03-27</td>\n",
       "      <td>81.86</td>\n",
       "    </tr>\n",
       "    <tr>\n",
       "      <th>1</th>\n",
       "      <td>ZTS</td>\n",
       "      <td>2018-03-26</td>\n",
       "      <td>83.73</td>\n",
       "    </tr>\n",
       "    <tr>\n",
       "      <th>2</th>\n",
       "      <td>ZTS</td>\n",
       "      <td>2018-03-23</td>\n",
       "      <td>80.60</td>\n",
       "    </tr>\n",
       "    <tr>\n",
       "      <th>3</th>\n",
       "      <td>ZTS</td>\n",
       "      <td>2018-03-22</td>\n",
       "      <td>82.06</td>\n",
       "    </tr>\n",
       "    <tr>\n",
       "      <th>4</th>\n",
       "      <td>ZTS</td>\n",
       "      <td>2018-03-21</td>\n",
       "      <td>84.10</td>\n",
       "    </tr>\n",
       "  </tbody>\n",
       "</table>\n",
       "</div>"
      ],
      "text/plain": [
       "     ticker       date  adj_close\n",
       "None                             \n",
       "0       ZTS 2018-03-27      81.86\n",
       "1       ZTS 2018-03-26      83.73\n",
       "2       ZTS 2018-03-23      80.60\n",
       "3       ZTS 2018-03-22      82.06\n",
       "4       ZTS 2018-03-21      84.10"
      ]
     },
     "execution_count": 32,
     "metadata": {},
     "output_type": "execute_result"
    }
   ],
   "source": [
    "current_batch.head()"
   ]
  },
  {
   "cell_type": "code",
   "execution_count": 82,
   "metadata": {},
   "outputs": [],
   "source": [
    "data = pd.concat(batches)"
   ]
  },
  {
   "cell_type": "code",
   "execution_count": 83,
   "metadata": {},
   "outputs": [],
   "source": [
    "stocks = data.pivot(index=\"date\", columns=\"ticker\", values=\"adj_close\")\n",
    "# Fill any missing data using a forward fill\n",
    "stocks.fillna(method='ffill', inplace=True)"
   ]
  },
  {
   "cell_type": "code",
   "execution_count": 84,
   "metadata": {},
   "outputs": [
    {
     "data": {
      "text/plain": [
       "(Timestamp('2017-01-03 00:00:00'), Timestamp('2018-03-27 00:00:00'))"
      ]
     },
     "execution_count": 84,
     "metadata": {},
     "output_type": "execute_result"
    }
   ],
   "source": [
    "stocks.index.min(), stocks.index.max()"
   ]
  },
  {
   "cell_type": "code",
   "execution_count": 85,
   "metadata": {},
   "outputs": [],
   "source": [
    "stock_to_predict = \"AAPL\"\n",
    "X = stocks[[column for column in stocks.columns if column != stock_to_predict]]\n",
    "y = stocks[stock_to_predict]"
   ]
  },
  {
   "cell_type": "code",
   "execution_count": 86,
   "metadata": {},
   "outputs": [],
   "source": [
    "split_date = \"2018-01-01\"\n",
    "X_train, X_test = X[:split_date], X[split_date:]\n",
    "y_train, y_test = y[:split_date], y[split_date:]"
   ]
  },
  {
   "cell_type": "markdown",
   "metadata": {},
   "source": [
    "We've seen a few methods of doing linear regression now. Use the one you are more comfortable with. Here, we will use sklearn:"
   ]
  },
  {
   "cell_type": "code",
   "execution_count": 87,
   "metadata": {},
   "outputs": [
    {
     "ename": "ValueError",
     "evalue": "Input contains NaN, infinity or a value too large for dtype('float64').",
     "output_type": "error",
     "traceback": [
      "\u001b[0;31m---------------------------------------------------------------------------\u001b[0m",
      "\u001b[0;31mValueError\u001b[0m                                Traceback (most recent call last)",
      "\u001b[0;32m<ipython-input-87-0a93a051ca11>\u001b[0m in \u001b[0;36m<module>\u001b[0;34m\u001b[0m\n\u001b[1;32m      3\u001b[0m \u001b[0mmodel\u001b[0m \u001b[0;34m=\u001b[0m \u001b[0mLinearRegression\u001b[0m\u001b[0;34m(\u001b[0m\u001b[0;34m)\u001b[0m\u001b[0;34m\u001b[0m\u001b[0;34m\u001b[0m\u001b[0m\n\u001b[1;32m      4\u001b[0m \u001b[0;34m\u001b[0m\u001b[0m\n\u001b[0;32m----> 5\u001b[0;31m \u001b[0mmodel\u001b[0m\u001b[0;34m.\u001b[0m\u001b[0mfit\u001b[0m\u001b[0;34m(\u001b[0m\u001b[0mX_train\u001b[0m\u001b[0;34m,\u001b[0m \u001b[0my_train\u001b[0m\u001b[0;34m)\u001b[0m\u001b[0;34m\u001b[0m\u001b[0;34m\u001b[0m\u001b[0m\n\u001b[0m",
      "\u001b[0;32m~/anaconda3/envs/quant/lib/python3.6/site-packages/sklearn/linear_model/base.py\u001b[0m in \u001b[0;36mfit\u001b[0;34m(self, X, y, sample_weight)\u001b[0m\n\u001b[1;32m    456\u001b[0m         \u001b[0mn_jobs_\u001b[0m \u001b[0;34m=\u001b[0m \u001b[0mself\u001b[0m\u001b[0;34m.\u001b[0m\u001b[0mn_jobs\u001b[0m\u001b[0;34m\u001b[0m\u001b[0;34m\u001b[0m\u001b[0m\n\u001b[1;32m    457\u001b[0m         X, y = check_X_y(X, y, accept_sparse=['csr', 'csc', 'coo'],\n\u001b[0;32m--> 458\u001b[0;31m                          y_numeric=True, multi_output=True)\n\u001b[0m\u001b[1;32m    459\u001b[0m \u001b[0;34m\u001b[0m\u001b[0m\n\u001b[1;32m    460\u001b[0m         \u001b[0;32mif\u001b[0m \u001b[0msample_weight\u001b[0m \u001b[0;32mis\u001b[0m \u001b[0;32mnot\u001b[0m \u001b[0;32mNone\u001b[0m \u001b[0;32mand\u001b[0m \u001b[0mnp\u001b[0m\u001b[0;34m.\u001b[0m\u001b[0matleast_1d\u001b[0m\u001b[0;34m(\u001b[0m\u001b[0msample_weight\u001b[0m\u001b[0;34m)\u001b[0m\u001b[0;34m.\u001b[0m\u001b[0mndim\u001b[0m \u001b[0;34m>\u001b[0m \u001b[0;36m1\u001b[0m\u001b[0;34m:\u001b[0m\u001b[0;34m\u001b[0m\u001b[0;34m\u001b[0m\u001b[0m\n",
      "\u001b[0;32m~/anaconda3/envs/quant/lib/python3.6/site-packages/sklearn/utils/validation.py\u001b[0m in \u001b[0;36mcheck_X_y\u001b[0;34m(X, y, accept_sparse, accept_large_sparse, dtype, order, copy, force_all_finite, ensure_2d, allow_nd, multi_output, ensure_min_samples, ensure_min_features, y_numeric, warn_on_dtype, estimator)\u001b[0m\n\u001b[1;32m    754\u001b[0m                     \u001b[0mensure_min_features\u001b[0m\u001b[0;34m=\u001b[0m\u001b[0mensure_min_features\u001b[0m\u001b[0;34m,\u001b[0m\u001b[0;34m\u001b[0m\u001b[0;34m\u001b[0m\u001b[0m\n\u001b[1;32m    755\u001b[0m                     \u001b[0mwarn_on_dtype\u001b[0m\u001b[0;34m=\u001b[0m\u001b[0mwarn_on_dtype\u001b[0m\u001b[0;34m,\u001b[0m\u001b[0;34m\u001b[0m\u001b[0;34m\u001b[0m\u001b[0m\n\u001b[0;32m--> 756\u001b[0;31m                     estimator=estimator)\n\u001b[0m\u001b[1;32m    757\u001b[0m     \u001b[0;32mif\u001b[0m \u001b[0mmulti_output\u001b[0m\u001b[0;34m:\u001b[0m\u001b[0;34m\u001b[0m\u001b[0;34m\u001b[0m\u001b[0m\n\u001b[1;32m    758\u001b[0m         y = check_array(y, 'csr', force_all_finite=True, ensure_2d=False,\n",
      "\u001b[0;32m~/anaconda3/envs/quant/lib/python3.6/site-packages/sklearn/utils/validation.py\u001b[0m in \u001b[0;36mcheck_array\u001b[0;34m(array, accept_sparse, accept_large_sparse, dtype, order, copy, force_all_finite, ensure_2d, allow_nd, ensure_min_samples, ensure_min_features, warn_on_dtype, estimator)\u001b[0m\n\u001b[1;32m    571\u001b[0m         \u001b[0;32mif\u001b[0m \u001b[0mforce_all_finite\u001b[0m\u001b[0;34m:\u001b[0m\u001b[0;34m\u001b[0m\u001b[0;34m\u001b[0m\u001b[0m\n\u001b[1;32m    572\u001b[0m             _assert_all_finite(array,\n\u001b[0;32m--> 573\u001b[0;31m                                allow_nan=force_all_finite == 'allow-nan')\n\u001b[0m\u001b[1;32m    574\u001b[0m \u001b[0;34m\u001b[0m\u001b[0m\n\u001b[1;32m    575\u001b[0m     \u001b[0mshape_repr\u001b[0m \u001b[0;34m=\u001b[0m \u001b[0m_shape_repr\u001b[0m\u001b[0;34m(\u001b[0m\u001b[0marray\u001b[0m\u001b[0;34m.\u001b[0m\u001b[0mshape\u001b[0m\u001b[0;34m)\u001b[0m\u001b[0;34m\u001b[0m\u001b[0;34m\u001b[0m\u001b[0m\n",
      "\u001b[0;32m~/anaconda3/envs/quant/lib/python3.6/site-packages/sklearn/utils/validation.py\u001b[0m in \u001b[0;36m_assert_all_finite\u001b[0;34m(X, allow_nan)\u001b[0m\n\u001b[1;32m     54\u001b[0m                 not allow_nan and not np.isfinite(X).all()):\n\u001b[1;32m     55\u001b[0m             \u001b[0mtype_err\u001b[0m \u001b[0;34m=\u001b[0m \u001b[0;34m'infinity'\u001b[0m \u001b[0;32mif\u001b[0m \u001b[0mallow_nan\u001b[0m \u001b[0;32melse\u001b[0m \u001b[0;34m'NaN, infinity'\u001b[0m\u001b[0;34m\u001b[0m\u001b[0;34m\u001b[0m\u001b[0m\n\u001b[0;32m---> 56\u001b[0;31m             \u001b[0;32mraise\u001b[0m \u001b[0mValueError\u001b[0m\u001b[0;34m(\u001b[0m\u001b[0mmsg_err\u001b[0m\u001b[0;34m.\u001b[0m\u001b[0mformat\u001b[0m\u001b[0;34m(\u001b[0m\u001b[0mtype_err\u001b[0m\u001b[0;34m,\u001b[0m \u001b[0mX\u001b[0m\u001b[0;34m.\u001b[0m\u001b[0mdtype\u001b[0m\u001b[0;34m)\u001b[0m\u001b[0;34m)\u001b[0m\u001b[0;34m\u001b[0m\u001b[0;34m\u001b[0m\u001b[0m\n\u001b[0m\u001b[1;32m     57\u001b[0m \u001b[0;34m\u001b[0m\u001b[0m\n\u001b[1;32m     58\u001b[0m \u001b[0;34m\u001b[0m\u001b[0m\n",
      "\u001b[0;31mValueError\u001b[0m: Input contains NaN, infinity or a value too large for dtype('float64')."
     ]
    }
   ],
   "source": [
    "from sklearn.linear_model import LinearRegression\n",
    "\n",
    "model = LinearRegression()\n",
    "\n",
    "model.fit(X_train, y_train)"
   ]
  },
  {
   "cell_type": "markdown",
   "metadata": {},
   "source": [
    "One problem - sklearn doesn't handle NaN values - missing data - very well."
   ]
  },
  {
   "cell_type": "code",
   "execution_count": 88,
   "metadata": {},
   "outputs": [
    {
     "data": {
      "text/plain": [
       "ticker\n",
       "APTV    True\n",
       "BHGE    True\n",
       "BKNG    True\n",
       "CBRE    True\n",
       "DWDP    True\n",
       "DXC     True\n",
       "HLT     True\n",
       "INFO    True\n",
       "IQV     True\n",
       "TPR     True\n",
       "WELL    True\n",
       "dtype: bool"
      ]
     },
     "execution_count": 88,
     "metadata": {},
     "output_type": "execute_result"
    }
   ],
   "source": [
    "# Here are the culprits:\n",
    "is_missing = X_train.isna().any()\n",
    "missing = is_missing[is_missing]  # only show the Trues\n",
    "missing"
   ]
  },
  {
   "cell_type": "code",
   "execution_count": 91,
   "metadata": {},
   "outputs": [],
   "source": [
    "stocks_cleaned = stocks[[column for column in stocks.columns if column not in missing.index]]"
   ]
  },
  {
   "cell_type": "code",
   "execution_count": 92,
   "metadata": {},
   "outputs": [],
   "source": [
    "stock_to_predict = \"AAPL\"\n",
    "# Also skip the ones in our missing model\n",
    "X = stocks_cleaned.drop(stock_to_predict, axis=1)  # Drop the column, in a VIEW of the original data\n",
    "y = stocks_cleaned[stock_to_predict]"
   ]
  },
  {
   "cell_type": "code",
   "execution_count": 93,
   "metadata": {},
   "outputs": [],
   "source": [
    "split_date = \"2018-01-01\"\n",
    "X_train, X_test = X[:split_date], X[split_date:]\n",
    "y_train, y_test = y[:split_date], y[split_date:]"
   ]
  },
  {
   "cell_type": "code",
   "execution_count": 94,
   "metadata": {},
   "outputs": [
    {
     "data": {
      "text/plain": [
       "LinearRegression(copy_X=True, fit_intercept=True, n_jobs=None,\n",
       "         normalize=False)"
      ]
     },
     "execution_count": 94,
     "metadata": {},
     "output_type": "execute_result"
    }
   ],
   "source": [
    "from sklearn.linear_model import LinearRegression\n",
    "\n",
    "model = LinearRegression()\n",
    "\n",
    "model.fit(X_train, y_train)"
   ]
  },
  {
   "cell_type": "code",
   "execution_count": 103,
   "metadata": {},
   "outputs": [],
   "source": [
    "y_train_pred = model.predict(X_train)"
   ]
  },
  {
   "cell_type": "code",
   "execution_count": 107,
   "metadata": {},
   "outputs": [
    {
     "data": {
      "text/plain": [
       "[<matplotlib.lines.Line2D at 0x7fb855c33908>]"
      ]
     },
     "execution_count": 107,
     "metadata": {},
     "output_type": "execute_result"
    },
    {
     "data": {
      "image/png": "[encoded data removed]",
      "text/plain": [
       "<Figure size 432x288 with 1 Axes>"
      ]
     },
     "metadata": {
      "needs_background": "light"
     },
     "output_type": "display_data"
    }
   ],
   "source": [
    "plt.plot(y_train_pred)\n",
    "plt.plot(y_train.values)"
   ]
  },
  {
   "cell_type": "markdown",
   "metadata": {},
   "source": [
    "With *so much* data to use, our predictions are nearly perfect on our training data. Can't see it? Try plotting `plt.plot(y_train.values + 1)`. This near-perfectness is due to the ability of the Linear model to pick and choose the data that best fits it, and it can just keep doing this until it matches as best as it could.\n",
    "\n",
    "However good this model is on the training data, it fails on the testing data:\n"
   ]
  },
  {
   "cell_type": "code",
   "execution_count": 108,
   "metadata": {},
   "outputs": [],
   "source": [
    "y_test_pred = model.predict(X_test)"
   ]
  },
  {
   "cell_type": "code",
   "execution_count": 109,
   "metadata": {},
   "outputs": [
    {
     "data": {
      "text/plain": [
       "[<matplotlib.lines.Line2D at 0x7fb855b932b0>]"
      ]
     },
     "execution_count": 109,
     "metadata": {},
     "output_type": "execute_result"
    },
    {
     "data": {
      "image/png": "[encoded data removed]",
      "text/plain": [
       "<Figure size 432x288 with 1 Axes>"
      ]
     },
     "metadata": {
      "needs_background": "light"
     },
     "output_type": "display_data"
    }
   ],
   "source": [
    "plt.plot(y_test_pred)\n",
    "plt.plot(y_test.values)"
   ]
  },
  {
   "cell_type": "markdown",
   "metadata": {},
   "source": [
    "To detect overfitting, one method is to use a validation curve. This marks \"complexity\" as the x-axis, and plots training and testing scores. Typically, the two curves start apart (underfitting), converge, then diverge again as overfitting kicks in.\n"
   ]
  },
  {
   "cell_type": "code",
   "execution_count": 110,
   "metadata": {},
   "outputs": [],
   "source": [
    "from sklearn.preprocessing import PolynomialFeatures\n",
    "from sklearn.linear_model import LinearRegression\n",
    "from sklearn.pipeline import make_pipeline\n",
    "\n",
    "def PolynomialRegression(degree=2, **kwargs):\n",
    "    return make_pipeline(PolynomialFeatures(degree),\n",
    "                         LinearRegression(**kwargs))"
   ]
  },
  {
   "cell_type": "markdown",
   "metadata": {},
   "source": [
    "The above code uses a scikit-learn Pipeline to create a `degree`-dimensional copy of all features. For instance, `x` with degree 3 returns features $x$, $x^2$, and $x^3$ (and $c$). A linear regression is then fit on these models."
   ]
  },
  {
   "cell_type": "code",
   "execution_count": 153,
   "metadata": {},
   "outputs": [
    {
     "name": "stdout",
     "output_type": "stream",
     "text": [
      "[3, 2, 5, 3, 3]\n"
     ]
    },
    {
     "data": {
      "text/plain": [
       "<matplotlib.legend.Legend at 0x7fb8548333c8>"
      ]
     },
     "execution_count": 153,
     "metadata": {},
     "output_type": "execute_result"
    },
    {
     "data": {
      "image/png": "[encoded data removed]",
      "text/plain": [
       "<Figure size 432x288 with 1 Axes>"
      ]
     },
     "metadata": {
      "needs_background": "light"
     },
     "output_type": "display_data"
    }
   ],
   "source": [
    "# Create a dataset\n",
    "params = [3, 2, 5, 3, 3]  # 5 random numbers - 5 degree polynomial\n",
    "model = np.poly1d(params)\n",
    "print(params)\n",
    "\n",
    "x_model = np.linspace(0, 10, 1000)  # x-spaced data\n",
    "y_model = model(x_model)   # Actual y values\n",
    "plt.plot(x_model, y_model, label='Model')\n",
    "\n",
    "x = (np.random.random(90) * 10)  # 1000 random points between 0 and 10, in a 2D matrix\n",
    "y = model(x) + np.random.randn(len(x)) * 5000  # Use the model, but  with noise\n",
    "plt.plot(x, y, 'ro', label=\"Data\")\n",
    "plt.legend()"
   ]
  },
  {
   "cell_type": "code",
   "execution_count": 154,
   "metadata": {},
   "outputs": [],
   "source": [
    "from sklearn.model_selection import validation_curve\n",
    "\n",
    "def rms_error(model, X, y):\n",
    "    y_pred = model.predict(X)\n",
    "    return np.sqrt(np.mean((y - y_pred) ** 2))\n",
    "\n",
    "x = x.reshape(-1, 1)  # Make 2D matrix, as required by sklearn\n",
    "degree = np.arange(0, 20)\n",
    "val_train, val_test = validation_curve(PolynomialRegression(), x, y,\n",
    "                                       'polynomialfeatures__degree', degree, cv=7,\n",
    "                                       scoring=rms_error)"
   ]
  },
  {
   "cell_type": "code",
   "execution_count": 157,
   "metadata": {},
   "outputs": [
    {
     "data": {
      "image/png": "[encoded data removed]",
      "text/plain": [
       "<Figure size 432x288 with 1 Axes>"
      ]
     },
     "metadata": {
      "needs_background": "light"
     },
     "output_type": "display_data"
    }
   ],
   "source": [
    "def plot_with_err(x, data, **kwargs):\n",
    "    mu, std = data.mean(1), data.std(1)\n",
    "    lines = plt.plot(x, mu, '-', **kwargs)\n",
    "    plt.fill_between(x, mu - std, mu + std, edgecolor='none',\n",
    "                     facecolor=lines[0].get_color(), alpha=0.2)\n",
    "\n",
    "plot_with_err(degree, val_train, label='training scores')\n",
    "plot_with_err(degree, val_test, label='testing scores')\n",
    "plt.xlabel('degree'); plt.ylabel('rms error')\n",
    "plt.legend();"
   ]
  },
  {
   "cell_type": "markdown",
   "metadata": {},
   "source": [
    "Note in the above that the dataset starts to diver around degree 5. This is a little \"late\" (I would choose degree = 3 based on this graph), but it gives a sense that values any higher are overfitting. This is because the training and testing scores are diverging after this point.\n",
    "\n",
    "With graphs like these, you can reduce the overall training error with more data, and you can make the graphs converge with a better fitting model.\n",
    "\n",
    "Note that once you use testing data to do any training, it can't be used for evaluation. In this case, we would be using our test set to decide the degree of the polynomial. After this point, that testing data has been used in training, and you would need *more* data to give a proper evaluation of the expected performance of the model.\n",
    "\n",
    "Note that, as we have seen, overfitting can happen if your model is too complex, or if you have too many variables, or - as we saw above - too many variants of specific variables. Keep the theory in mind - before adding to a model, ensure you have a good theoretic reason for doing so."
   ]
  },
  {
   "cell_type": "markdown",
   "metadata": {},
   "source": [
    "### Exercise\n",
    "\n",
    "1. Using \"number of other stocks\" as the \"degree\", fit the AAPL price to a number of random stocks. Keep the \"random\" stocks consistent throughout the testing though! After how many stocks do we start overfitting?\n",
    "2. A similar experiment can be performed with \"number of data points\" on the x-axis and train/test error. Create this plot, varying the size of the dataset. This plot tells us whether collecting more data will assist or not with improving the error, which can be critical in determining if funds need to be spent in this area."
   ]
  },
  {
   "cell_type": "markdown",
   "metadata": {},
   "source": [
    "## Linear Regression vs Ridge Regression\n",
    "\n",
    "One example of an algorithm that can reduce the problem of overfitting is Ridge Regression. It can be summarised as \"Linear Regression, but you are penalised for high $\\beta$ values\". Ridge Regression helps when your overfitting problem is caused by too many variables (not so much for model complexity). There are several algorithms of this type, that penalise attributes that could cause overfitting.\n",
    "\n",
    "Given the normal $SSE$ value that Linear Regression models minimise, Ridge Regression instead aims to minimise:\n",
    "\n",
    "$SSE_R = SSE + \\lambda m^2$\n",
    "\n",
    "Where $m$ is the slope of the curve (or the sum of slopes of curves), and $\\lambda$ is a tunable parameter. Setting it high penalises high slopes, leading to \"flatter\" models being learned. If $\\lambda=0$, then the algorithm is exactly the same as a Linear Regression. \n",
    "\n",
    "Generally, you would fit $\\lambda$ to your data using a cross-fold validation to choose the best value.\n",
    "\n",
    "As an interesting, if perhaps not useful sidenote, Ridge Regression can also fit with as little as one data point. Linear Regression cannot, because there are infinite lines going through a single point, and any of them minimise $SSE$. However, only one minimises $SSE_R$ (when $\\lambda > 0$)."
   ]
  },
  {
   "cell_type": "markdown",
   "metadata": {},
   "source": [
    "### Exercise:\n",
    "\n",
    "1. Fit Linear Regression and Ridge Regression to a small dataset, with a positive, non-zero $\\lambda$ value and compare the lines of best fit.\n",
    "2. Investigate Grid Search in scikit-learn, and use it to fit the best value of $\\lambda$."
   ]
  },
  {
   "cell_type": "code",
   "execution_count": null,
   "metadata": {},
   "outputs": [],
   "source": []
  }
 ],
 "metadata": {
  "kernelspec": {
   "display_name": "Python 3",
   "language": "python",
   "name": "python3"
  },
  "language_info": {
   "codemirror_mode": {
    "name": "ipython",
    "version": 3
   },
   "file_extension": ".py",
   "mimetype": "text/x-python",
   "name": "python",
   "nbconvert_exporter": "python",
   "pygments_lexer": "ipython3",
   "version": "3.6.8"
  }
 },
 "nbformat": 4,
 "nbformat_minor": 2
}
