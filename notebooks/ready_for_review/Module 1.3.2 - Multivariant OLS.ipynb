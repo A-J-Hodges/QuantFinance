{
 "cells": [
  {
   "cell_type": "markdown",
   "metadata": {},
   "source": [
    "# Introduction to Quant Finance\n",
    "\n",
    "## Module 1.3: Ordinary Least Squares\n",
    "\n",
    "### 1.3.2 Multivariant OLS\n",
    "\n",
    "In the previous module, we looked at the Ordinary Least Squares (OLS) method for solving Linear Regression problems of the form:\n",
    "\n",
    "$ Y = X\\beta + \\boldsymbol{u}$\n",
    "\n",
    "Where $Y$ is the variable we are attempting to predict (the dependent variable), $X$ is our independent variable (or multiple variables, as we will see in the next notebook), $\\beta$ is the parameters we are trying to learn, and $u$ is the error of our model, as we can often not predict data perfectly.\n",
    "\n",
    "In that previous module, we had just a single input variable. Most models have many, many more, including in some cases combinations of features (such as multiplying two feature values together). Multivariant OLS allows this. For instance, we might try and predict a stock price by taking the stock price of several competitors as input.\n",
    "\n",
    "The actual equation for OLS doesn't change. Instead, our understanding of the components ($Y$, $X$, $\\beta$ and $u$) does. Rather than be single vectors or single values, they are instead matrices and vectors.\n",
    "\n",
    "For those unfamiliar with matrix algebra, we will take a quick detour through this topic, before linking it back to Multivariant OLS at the end of this module."
   ]
  },
  {
   "cell_type": "code",
   "execution_count": 1,
   "metadata": {},
   "outputs": [],
   "source": [
    "%run setup.ipy"
   ]
  },
  {
   "cell_type": "markdown",
   "metadata": {},
   "source": [
    "### Matrix Algebra\n",
    "\n",
    "Matrices are used for a very wide range of applications. They are rectangular collections of numbers, and follow several rules on multiplying, adding, dividing and other actions. There are a few differences from algebra in more \"standard\" mathematics, for instance $A \\times B \\neq B \\times A$ in most cases.\n",
    "\n",
    "In matrix algebra, single values still exist, known as *scalars*:\n",
    "\n",
    "Mathematically: $a = 1$.\n",
    "\n",
    "In code:"
   ]
  },
  {
   "cell_type": "code",
   "execution_count": 3,
   "metadata": {},
   "outputs": [],
   "source": [
    "a = 1"
   ]
  },
  {
   "cell_type": "markdown",
   "metadata": {},
   "source": [
    "On notation, as it is important going forward, a scalar is almost always written as a standard lowercase letter (specifically, not bold, as we will see soon).\n",
    "\n",
    "For an ordered list of values, denoted a *vector* in matrix algebra, we use a bold lowercase letter:\n",
    "\n",
    "Mathematically: $\\boldsymbol{u} = [0.1, 0.3, 4.6]$\n",
    "\n",
    "In code, for the NumPy library:"
   ]
  },
  {
   "cell_type": "code",
   "execution_count": 4,
   "metadata": {},
   "outputs": [],
   "source": [
    "import numpy as np\n",
    "\n",
    "u = np.array([0.1, 0.3, 4.6])"
   ]
  },
  {
   "cell_type": "markdown",
   "metadata": {},
   "source": [
    "Note that we cannot \"bold\" a variable name in Python, so we just use a lowercase letter."
   ]
  },
  {
   "cell_type": "markdown",
   "metadata": {},
   "source": [
    "For rectangular groups of numbers, known as a **matrix**, we use an uppercase letter:\n",
    "\n",
    "Mathematically:\n",
    "\n",
    "$ X = \\begin{bmatrix}\n",
    "1 & 2 \\\\\n",
    "3 & 4 \\\\\n",
    "5 & 6 \n",
    "\\end{bmatrix}  $\n",
    "\n",
    "\n",
    "In code:"
   ]
  },
  {
   "cell_type": "code",
   "execution_count": 5,
   "metadata": {},
   "outputs": [],
   "source": [
    "X = np.array([\n",
    "    [1, 2],\n",
    "    [3, 4],\n",
    "    [5, 6]\n",
    "])"
   ]
  },
  {
   "cell_type": "markdown",
   "metadata": {},
   "source": [
    "In NumPy, the word *array* is used, as it can represent both a single vector or a matrix, or even higher-order data! The key distinction is the `shape` and `ndims`:"
   ]
  },
  {
   "cell_type": "code",
   "execution_count": 6,
   "metadata": {},
   "outputs": [
    {
     "data": {
      "text/plain": [
       "(3,)"
      ]
     },
     "execution_count": 6,
     "metadata": {},
     "output_type": "execute_result"
    }
   ],
   "source": [
    "u.shape"
   ]
  },
  {
   "cell_type": "code",
   "execution_count": 8,
   "metadata": {},
   "outputs": [
    {
     "data": {
      "text/plain": [
       "1"
      ]
     },
     "execution_count": 8,
     "metadata": {},
     "output_type": "execute_result"
    }
   ],
   "source": [
    "u.ndim"
   ]
  },
  {
   "cell_type": "code",
   "execution_count": 7,
   "metadata": {},
   "outputs": [
    {
     "data": {
      "text/plain": [
       "(3, 2)"
      ]
     },
     "execution_count": 7,
     "metadata": {},
     "output_type": "execute_result"
    }
   ],
   "source": [
    "X.shape"
   ]
  },
  {
   "cell_type": "code",
   "execution_count": 9,
   "metadata": {},
   "outputs": [
    {
     "data": {
      "text/plain": [
       "2"
      ]
     },
     "execution_count": 9,
     "metadata": {},
     "output_type": "execute_result"
    }
   ],
   "source": [
    "X.ndim"
   ]
  },
  {
   "cell_type": "markdown",
   "metadata": {},
   "source": [
    "Here we can see that $\\boldsymbol{u}$ has one dimension (`u.ndim`), and has a shape indicating it has 3 values in that one dimension.\n",
    "\n",
    "In contrast, $X$ has two dimensions (`X.ndim`), it has 3 rows, and each row has 2 columns. There are six values total:"
   ]
  },
  {
   "cell_type": "code",
   "execution_count": 10,
   "metadata": {},
   "outputs": [
    {
     "data": {
      "text/plain": [
       "6"
      ]
     },
     "execution_count": 10,
     "metadata": {},
     "output_type": "execute_result"
    }
   ],
   "source": [
    "X.size"
   ]
  },
  {
   "cell_type": "markdown",
   "metadata": {},
   "source": [
    "#### Exercise\n",
    "\n",
    "1. Create an array representing the following matrix:\n",
    "    $ \\begin{bmatrix}\n",
    "    10 & 20 & 30 \\\\\n",
    "    40 & 50 & 60 \n",
    "    \\end{bmatrix}  $\n",
    "2. In the Linear Regression Model, does the value of $\\beta$ represent a matrix or vector? Hint: Look up the greek alphabet and determine if it is an uppercase or lowercase letter."
   ]
  },
  {
   "cell_type": "markdown",
   "metadata": {},
   "source": [
    "### Working with matrices\n",
    "\n",
    "Matrix algebra follows different rules to normal algebra, but it is internally consistent and produces a wide range of benefits. First, a bit more terminology:\n",
    "\n",
    "$ \\begin{bmatrix}\n",
    "a_{1, 1} & a_{1, 2} & a_{1, 3} \\\\\n",
    "a_{2, 1} & a_{2, 2} & a_{2, 3} \n",
    "\\end{bmatrix}  $\n",
    "\n",
    "In this matrix, we use the subscripts identify the position of the values. Consider this matrix:\n",
    "\n",
    "$ X = \\begin{bmatrix}\n",
    "1 & 2 \\\\\n",
    "3 & 4 \\\\\n",
    "5 & 6 \n",
    "\\end{bmatrix}  $\n",
    "\n",
    "Here, the value $5$ is in the third row and first position, so it's position is $(3, 1)$. Let's look at this in code:"
   ]
  },
  {
   "cell_type": "code",
   "execution_count": 14,
   "metadata": {},
   "outputs": [
    {
     "data": {
      "text/plain": [
       "5"
      ]
     },
     "execution_count": 14,
     "metadata": {},
     "output_type": "execute_result"
    }
   ],
   "source": [
    "X[2, 0]  # Huh!?"
   ]
  },
  {
   "cell_type": "markdown",
   "metadata": {},
   "source": [
    "While the numbering doesn't matter for any of the math we will see in the future, just keep in mind this general pattern:\n",
    "\n",
    "*In mathematics, we start counting from 1. In Python (and most programming languages), we start counting from zero.*\n",
    "\n",
    "This can trip up careful examination of the code. Luckily, as you get more familiar working with matrices, you worry less about accessing individual values inside the matrix.\n",
    "\n",
    "Next, let's look at the most basic operations in matrix algebra, between a scalar and a matrix or vector. Multiplying a matrix or a vector by a scalar simply does that operation on every element inside the matrix/vector, known as an *elementwise* operation:"
   ]
  },
  {
   "cell_type": "code",
   "execution_count": 15,
   "metadata": {},
   "outputs": [
    {
     "data": {
      "text/plain": [
       "array([[ 2,  4],\n",
       "       [ 6,  8],\n",
       "       [10, 12]])"
      ]
     },
     "execution_count": 15,
     "metadata": {},
     "output_type": "execute_result"
    }
   ],
   "source": [
    "X * 2  # Multiplies every value inside X by 2"
   ]
  },
  {
   "cell_type": "code",
   "execution_count": 16,
   "metadata": {},
   "outputs": [
    {
     "data": {
      "text/plain": [
       "array([[4, 5],\n",
       "       [6, 7],\n",
       "       [8, 9]])"
      ]
     },
     "execution_count": 16,
     "metadata": {},
     "output_type": "execute_result"
    }
   ],
   "source": [
    "X + 3  # Adds 3 to every value inside X"
   ]
  },
  {
   "cell_type": "code",
   "execution_count": 17,
   "metadata": {},
   "outputs": [
    {
     "data": {
      "text/plain": [
       "array([[0.1, 0.2],\n",
       "       [0.3, 0.4],\n",
       "       [0.5, 0.6]])"
      ]
     },
     "execution_count": 17,
     "metadata": {},
     "output_type": "execute_result"
    }
   ],
   "source": [
    "X / 10"
   ]
  },
  {
   "cell_type": "code",
   "execution_count": 18,
   "metadata": {},
   "outputs": [
    {
     "data": {
      "text/plain": [
       "array([[-99, -98],\n",
       "       [-97, -96],\n",
       "       [-95, -94]])"
      ]
     },
     "execution_count": 18,
     "metadata": {},
     "output_type": "execute_result"
    }
   ],
   "source": [
    "X - 100"
   ]
  },
  {
   "cell_type": "markdown",
   "metadata": {},
   "source": [
    "Note that the shape of the matrix doesn't change (we will see this happen next) when doing operations with scalars like this.\n",
    "\n",
    "The most impactful matrix algebra method is known as the *dot product*:"
   ]
  },
  {
   "cell_type": "code",
   "execution_count": 19,
   "metadata": {},
   "outputs": [],
   "source": [
    "A = np.array([[1, 2, 3],\n",
    "              [4, 5, 6]])\n",
    "B = np.array([[10, 20],\n",
    "              [30, 40],\n",
    "              [50, 60]])"
   ]
  },
  {
   "cell_type": "code",
   "execution_count": 20,
   "metadata": {},
   "outputs": [
    {
     "data": {
      "text/plain": [
       "array([[220, 280],\n",
       "       [490, 640]])"
      ]
     },
     "execution_count": 20,
     "metadata": {},
     "output_type": "execute_result"
    }
   ],
   "source": [
    "A.dot(B)  # If you are using Python 3.5+, try A @ B"
   ]
  },
  {
   "cell_type": "markdown",
   "metadata": {},
   "source": [
    "The dot product has a key requirement. The \"inner dimensions\" must match. In the above examine, we are computing the dot product of $A$ and $B$. The order is important. $A$ has a shape of 2 by 3, and $B$ has a shape of 3 by 2. The \"inner values\", i.e. 3, match, so we can compute the dot product.\n",
    "\n",
    "This operation, in contrast, doesn't work, because $C$ is of shape 4 by 3, and the inner dimension doesn't match:"
   ]
  },
  {
   "cell_type": "code",
   "execution_count": 21,
   "metadata": {},
   "outputs": [
    {
     "ename": "ValueError",
     "evalue": "shapes (2,3) and (4,3) not aligned: 3 (dim 1) != 4 (dim 0)",
     "output_type": "error",
     "traceback": [
      "\u001b[0;31m---------------------------------------------------------------------------\u001b[0m",
      "\u001b[0;31mValueError\u001b[0m                                Traceback (most recent call last)",
      "\u001b[0;32m<ipython-input-21-2db21c568dc9>\u001b[0m in \u001b[0;36m<module>\u001b[0;34m\u001b[0m\n\u001b[1;32m      1\u001b[0m \u001b[0mC\u001b[0m \u001b[0;34m=\u001b[0m \u001b[0mnp\u001b[0m\u001b[0;34m.\u001b[0m\u001b[0marange\u001b[0m\u001b[0;34m(\u001b[0m\u001b[0;36m12\u001b[0m\u001b[0;34m)\u001b[0m\u001b[0;34m.\u001b[0m\u001b[0mreshape\u001b[0m\u001b[0;34m(\u001b[0m\u001b[0;36m4\u001b[0m\u001b[0;34m,\u001b[0m \u001b[0;36m3\u001b[0m\u001b[0;34m)\u001b[0m\u001b[0;34m\u001b[0m\u001b[0;34m\u001b[0m\u001b[0m\n\u001b[0;32m----> 2\u001b[0;31m \u001b[0mA\u001b[0m\u001b[0;34m.\u001b[0m\u001b[0mdot\u001b[0m\u001b[0;34m(\u001b[0m\u001b[0mC\u001b[0m\u001b[0;34m)\u001b[0m\u001b[0;34m\u001b[0m\u001b[0;34m\u001b[0m\u001b[0m\n\u001b[0m",
      "\u001b[0;31mValueError\u001b[0m: shapes (2,3) and (4,3) not aligned: 3 (dim 1) != 4 (dim 0)"
     ]
    }
   ],
   "source": [
    "C = np.arange(12).reshape(4, 3)\n",
    "A.dot(C)"
   ]
  },
  {
   "cell_type": "markdown",
   "metadata": {},
   "source": [
    "In a dot product, the resulting matrix will be the size of the outer dimensions. In our previous (working) example, $AB$, the outer dimensions were both 2, so the resulting value was a 2 by 2 matrix.\n",
    "\n",
    "The values of the dot product are the *sum of the products* from the original two matrices, from the row of the first matrix and the column of the second matrix. In other words, for position (i, j) in the dot product, we get the ith row from the first matrix, and the jth column of the second matrix. For our example $AB$, and for position (2, 1) of the dot product, the second row of $A$ is $[4, 5, 6]$ and the first column of $B$ is $[10, 30, 50]$. We then sum the products of the individual values:\n",
    "\n",
    "$result = 4 \\times 10 + 5 \\times 30 + 6 \\times 50 = 490$\n",
    "\n",
    "We repeat this process for every row/column combination, resulting in the dot product matrix, obtaining the result we saw above.\n",
    "\n",
    "When we compute the dot product including a vector, we need to make the distinction between a *row vector* and a *column vector*. In short, a *row vector* can be thought of as a matrix with one row, and a *column vector* as a matrix with one column. From here, the rules are the same as above (i.e. the inner dimensions must match and so on, just some of those dimension values are 1s).\n"
   ]
  },
  {
   "cell_type": "code",
   "execution_count": 22,
   "metadata": {},
   "outputs": [
    {
     "data": {
      "text/plain": [
       "(1, 3)"
      ]
     },
     "execution_count": 22,
     "metadata": {},
     "output_type": "execute_result"
    }
   ],
   "source": [
    "V1 = np.array([[10, 20, 30]])  # Note the double brackets, which create a two dimesional array\n",
    "V1.shape"
   ]
  },
  {
   "cell_type": "code",
   "execution_count": 24,
   "metadata": {},
   "outputs": [
    {
     "data": {
      "text/plain": [
       "(3, 2)"
      ]
     },
     "execution_count": 24,
     "metadata": {},
     "output_type": "execute_result"
    }
   ],
   "source": [
    "B.shape"
   ]
  },
  {
   "cell_type": "code",
   "execution_count": 25,
   "metadata": {},
   "outputs": [
    {
     "data": {
      "text/plain": [
       "array([[2200, 2800]])"
      ]
     },
     "execution_count": 25,
     "metadata": {},
     "output_type": "execute_result"
    }
   ],
   "source": [
    "V1.dot(B)"
   ]
  },
  {
   "cell_type": "code",
   "execution_count": 26,
   "metadata": {},
   "outputs": [
    {
     "data": {
      "text/plain": [
       "array([[10],\n",
       "       [20],\n",
       "       [30]])"
      ]
     },
     "execution_count": 26,
     "metadata": {},
     "output_type": "execute_result"
    }
   ],
   "source": [
    "V1.transpose()"
   ]
  },
  {
   "cell_type": "markdown",
   "metadata": {},
   "source": [
    "### Exercises\n",
    "\n",
    "1. Create a column vector `V2` such that the value `B.dot(V2)` can be computed. \n",
    "2. What is the dot product when all values in `V2` are ones?\n",
    "3. You can transpose any NumPy array with two dimensions or more by calling `X.transpose()` or `X.T`. What does this function do? Hint: Look at the shape of the array"
   ]
  },
  {
   "cell_type": "markdown",
   "metadata": {},
   "source": [
    "### Matrix algebra terminology and properties\n",
    "\n",
    "There are quite a few bits of terminology that are important to know before going forward:\n",
    "\n",
    "* **square matrix**: A matrix where the number of rows is equal to the number of columns\n",
    "* **diagonal matrix**: A square matrix, where only values on the diagonal are non-zero and all other values are zero. That is, for value in position (i, j), it is zero if $i\\neq j$, and *may be non-zero* only if $i=j$\n",
    "* **identity matrix**: A diagonal matrix where *all* diagonal elements are 1. It is denoted as $I$, and usually the size is implied by the context (i.e. if you are computing the dot product $XI$, then $I$ will be a square matrix with the size of the second dimension of $X$).\n",
    "* **scalar matrix**: A diagonal matrix where *all* diagonal elements are some scalar value. Its size too can often be implied by the context.\n",
    "* **transpose**: rotating a matrix 90°, denoted by a quote symbol. That is, the transpose of $A$ is $A'$, and it has values such that $A_{i, j} = A'_{j, i}$. The transpose of the transpose of a matrix is equal to the original matrix, i.e. $A'' = A$.\n",
    "* **symmetric matrix**: A matrix that is equal to its transpose.\n",
    "* **null matrix/vector**: A matrix/vector where all values are 0. Its size is often implied from the context.\n"
   ]
  },
  {
   "cell_type": "markdown",
   "metadata": {},
   "source": [
    "### Exercises\n",
    "\n",
    "1. Use the `np.arange` and `np.reshape` functions to create a square matrix\n",
    "2. Use the `np.diag` function to create a diagonal matrix\n",
    "3. Use the `np.eye` function to create an identity matrix\n",
    "4. Create a scalar matrix\n",
    "5. Use the `np.zeros` function to create a null matrix of size 4 by 5"
   ]
  },
  {
   "cell_type": "markdown",
   "metadata": {},
   "source": [
    "## Matrix inversion\n",
    "\n",
    "The inverse of a matrix ($A$) is a matrix ($A^{-1}$) satsifying the equation $A^{-1}A = AA^{-1} = I$.\n",
    "\n",
    "The inverse can only be computed for square matrices, and not every square matrix has an inverse. Looking at how to compute the inverse of a matrix will take us a little too far off topic for now. To investigate this further, start with this website from Wolfram: http://mathworld.wolfram.com/MatrixInverse.html\n",
    "\n",
    "We can compute the inverse using the `np.linalg.inv` function."
   ]
  },
  {
   "cell_type": "code",
   "execution_count": 34,
   "metadata": {},
   "outputs": [],
   "source": [
    "D = A.dot(B)  # Note: D is square"
   ]
  },
  {
   "cell_type": "code",
   "execution_count": 40,
   "metadata": {},
   "outputs": [],
   "source": [
    "D_inverse = np.linalg.inv(D)"
   ]
  },
  {
   "cell_type": "code",
   "execution_count": 41,
   "metadata": {},
   "outputs": [
    {
     "data": {
      "text/plain": [
       "array([[ 0.17777778, -0.07777778],\n",
       "       [-0.13611111,  0.06111111]])"
      ]
     },
     "execution_count": 41,
     "metadata": {},
     "output_type": "execute_result"
    }
   ],
   "source": [
    "D_inverse"
   ]
  },
  {
   "cell_type": "code",
   "execution_count": 42,
   "metadata": {},
   "outputs": [
    {
     "data": {
      "text/plain": [
       "array([[1.00000000e+00, 3.55271368e-15],\n",
       "       [0.00000000e+00, 1.00000000e+00]])"
      ]
     },
     "execution_count": 42,
     "metadata": {},
     "output_type": "execute_result"
    }
   ],
   "source": [
    "D.dot(D_inverse)"
   ]
  },
  {
   "cell_type": "code",
   "execution_count": 45,
   "metadata": {},
   "outputs": [
    {
     "data": {
      "text/plain": [
       "array([[ True, False],\n",
       "       [ True,  True]])"
      ]
     },
     "execution_count": 45,
     "metadata": {},
     "output_type": "execute_result"
    }
   ],
   "source": [
    "# Due to floating point math on computers, the values are close-to-but-not-exactly the identity matrix\n",
    "D.dot(D_inverse) == np.eye(2)"
   ]
  },
  {
   "cell_type": "code",
   "execution_count": 47,
   "metadata": {},
   "outputs": [
    {
     "data": {
      "text/plain": [
       "True"
      ]
     },
     "execution_count": 47,
     "metadata": {},
     "output_type": "execute_result"
    }
   ],
   "source": [
    "# This function can help us do this comparison\n",
    "np.allclose(D.dot(D_inverse), np.eye(2))  "
   ]
  },
  {
   "cell_type": "markdown",
   "metadata": {},
   "source": [
    "# Multivariant OLS derivation\n",
    "\n",
    "Now that we have an understanding of matrix algebra, we can review our model for the Linear Regression model to incorporate multiple values. That said, what does our input data actually look like?\n",
    "\n",
    "We often use $X$ as our set of independent variables. It is a carefully constructed matrix, with size $n$ by $k$, where $n$ is the number of samples, and $k$ is the number of measurements *per sample*. It is critically important that samples and measurement types are aligned. That is, all values for row $i$ must correspond to the same sample $i$, and all values in column $j$ must correspond to the same measurement type for each sample. Therefore, the value in $X_{i, j}$ is measurement type $j$ for sample $i$.\n",
    "\n",
    "As an example, a sample could be a given day. A measurement type could be \"closing price of IBM\". Therefore, the corresponding value would be the closing price of IBM on that given day.\n",
    "\n",
    "Additionally, it helps the Linear Regression model significantly to add a bias to the model. To do this, simply have one of the \"measurements\" (usually the first) simply always return the scalar 1. That makes your first column in $X$ just ones, and then the actual measurements take up the rest of the columns. To visualise why this is important, consider the following two models:"
   ]
  },
  {
   "cell_type": "code",
   "execution_count": 50,
   "metadata": {},
   "outputs": [],
   "source": [
    "x = np.linspace(-100, 100, 1000)"
   ]
  },
  {
   "cell_type": "code",
   "execution_count": 57,
   "metadata": {},
   "outputs": [
    {
     "data": {
      "text/plain": [
       "[<matplotlib.lines.Line2D at 0x7f9f25520a20>]"
      ]
     },
     "execution_count": 57,
     "metadata": {},
     "output_type": "execute_result"
    },
    {
     "data": {
      "image/png": "[encoded data removed]",
      "text/plain": [
       "<Figure size 432x288 with 1 Axes>"
      ]
     },
     "metadata": {
      "needs_background": "light"
     },
     "output_type": "display_data"
    }
   ],
   "source": [
    "# Without a \"1\" bias column\n",
    "gradient = 3\n",
    "y1 = x * gradient\n",
    "\n",
    "# Plot the origin axes in red\n",
    "plt.plot(x, np.zeros(len(x)), 'r-', alpha=0.5)\n",
    "plt.plot(np.zeros(len(y1)), y1, 'r-', alpha=0.5)\n",
    "\n",
    "# Plot the data in blue\n",
    "plt.plot(x, y1, 'b-')"
   ]
  },
  {
   "cell_type": "markdown",
   "metadata": {},
   "source": [
    "In the above plot, we can change the gradient, but the line must go through the origin (try it!). If we add a bias, we can then have lines that do not go through the origin:"
   ]
  },
  {
   "cell_type": "code",
   "execution_count": 61,
   "metadata": {},
   "outputs": [
    {
     "data": {
      "text/plain": [
       "[<matplotlib.lines.Line2D at 0x7f9f25499390>]"
      ]
     },
     "execution_count": 61,
     "metadata": {},
     "output_type": "execute_result"
    },
    {
     "data": {
      "image/png": "[encoded data removed]",
      "text/plain": [
       "<Figure size 432x288 with 1 Axes>"
      ]
     },
     "metadata": {
      "needs_background": "light"
     },
     "output_type": "display_data"
    }
   ],
   "source": [
    "gradient = 3\n",
    "bias = 60\n",
    "\n",
    "y2 = gradient * x + bias\n",
    "\n",
    "# Plot the origin axes in red\n",
    "plt.plot(x, np.zeros(len(x)), 'r-', alpha=0.5)\n",
    "plt.plot(np.zeros(len(y2)), y2, 'r-', alpha=0.5)\n",
    "\n",
    "# Plot the data in blue\n",
    "plt.plot(x, y2, 'b-')"
   ]
  },
  {
   "cell_type": "markdown",
   "metadata": {},
   "source": [
    "This result is true too of higher-dimensional data. This gives our model much more predictive power, simply by adding ones to our matrix!\n",
    "\n",
    "Now that we have the format for $X$, let's look at the shape of the other parts of the Linear Model. As a reminder, we have denoted the shape of $X$ as an $n$ by $k$ matrix, where $n$ is the number of samples and $k$ is the number of measurements (also called \"features\").\n",
    "\n",
    "* $\\boldsymbol{y}$ is a column vector with shape $n$ by 1. It is the predicted value, for each sample.\n",
    "* $\\beta$ is a column vector with shape $k$ by 1. It is the value we multiply each measurement by, i.e. each measurement's \"weight\"\n",
    "* $\\boldsymbol{u}$ is the error term for the prediction of each sample. It therefore has shape $n$ by 1.\n",
    "\n",
    "Using this information and our new knowledge of matrix algebra, we can derive the OLS Estimator for multivariant OLS, where $X$ contains multiple measurements:"
   ]
  },
  {
   "cell_type": "markdown",
   "metadata": {},
   "source": [
    "$$\n",
    "\\begin{align*}\n",
    "u'u & = (y - Xb)'(y - Xb) \\\\\n",
    "    & = y'y - y'Xb - b'X'y + b'X'Xb \\\\\n",
    "    & = y'y - 2b'X'y + b'X'Xb\n",
    "\\end{align*}\n",
    "$$\n",
    "\n",
    "\n",
    "Setting $\\frac{ \\partial(\\boldsymbol{u'}\\boldsymbol{u})}{ \\partial\\beta} = 0$ yields:\n",
    "\n",
    "$$\n",
    "\\begin{align}\n",
    "0 &= -2X'y + 2X'Xb \\\\\n",
    "b &= (X'X)^{-1}X'y\n",
    "\\end{align}\n",
    "$$"
   ]
  },
  {
   "cell_type": "markdown",
   "metadata": {},
   "source": [
    "Let us now have a look at how to do multivariant OLS within code, in the `statsmodels` package, using two interfaces, the functional and the formula interface."
   ]
  },
  {
   "cell_type": "code",
   "execution_count": 104,
   "metadata": {},
   "outputs": [],
   "source": [
    "import quandl\n",
    "\n",
    "interest_rates = quandl.get(\"RBA/F13_FOOIRATCR\")\n",
    "interest_rates = interest_rates[interest_rates.columns[0]]  # Extract the first column, whatever it is called\n",
    "interest_rates.name = \"InterestRate\"  # Rename, as the original had a long name. Hint: don't use spaces or special chars"
   ]
  },
  {
   "cell_type": "code",
   "execution_count": 105,
   "metadata": {},
   "outputs": [
    {
     "data": {
      "text/plain": [
       "Date\n",
       "1990-01-31    17.0\n",
       "1990-02-28    16.5\n",
       "1990-03-31    16.5\n",
       "1990-04-30    15.0\n",
       "1990-05-31    15.0\n",
       "Name: InterestRate, dtype: float64"
      ]
     },
     "execution_count": 105,
     "metadata": {},
     "output_type": "execute_result"
    }
   ],
   "source": [
    "interest_rates.head()"
   ]
  },
  {
   "cell_type": "code",
   "execution_count": 106,
   "metadata": {},
   "outputs": [],
   "source": [
    "inflation = quandl.get(\"RBA/G01_GCPIAGSAQP\")\n",
    "inflation.columns = ['Inflation']"
   ]
  },
  {
   "cell_type": "code",
   "execution_count": 107,
   "metadata": {},
   "outputs": [],
   "source": [
    "inflation = inflation.iloc[:, 0]  # Another way to acheive the same \"get the first column\""
   ]
  },
  {
   "cell_type": "code",
   "execution_count": 108,
   "metadata": {},
   "outputs": [
    {
     "data": {
      "text/plain": [
       "Date\n",
       "1982-06-30    2.5\n",
       "1982-09-30    3.5\n",
       "1982-12-31    2.7\n",
       "1983-03-31    2.4\n",
       "1983-06-30    2.2\n",
       "Name: Inflation, dtype: float64"
      ]
     },
     "execution_count": 108,
     "metadata": {},
     "output_type": "execute_result"
    }
   ],
   "source": [
    "inflation.head()"
   ]
  },
  {
   "cell_type": "code",
   "execution_count": 109,
   "metadata": {},
   "outputs": [],
   "source": [
    "au_dollar = quandl.get(\"BUNDESBANK/BBEX3_M_AUD_USD_CM_AC_A01\")['Value']\n",
    "au_dollar.name = \"AUDUSD\""
   ]
  },
  {
   "cell_type": "code",
   "execution_count": 110,
   "metadata": {},
   "outputs": [
    {
     "data": {
      "text/plain": [
       "Date\n",
       "1974-01-31    1.4875\n",
       "1974-02-28    1.4875\n",
       "1974-03-31    1.4875\n",
       "1974-04-30    1.4875\n",
       "1974-05-31    1.4875\n",
       "Name: AUDUSD, dtype: float64"
      ]
     },
     "execution_count": 110,
     "metadata": {},
     "output_type": "execute_result"
    }
   ],
   "source": [
    "au_dollar.head()"
   ]
  },
  {
   "cell_type": "code",
   "execution_count": 111,
   "metadata": {},
   "outputs": [],
   "source": [
    "data = pd.concat([interest_rates, inflation, au_dollar], axis=1)  # Combines multiple series into a DataFrame"
   ]
  },
  {
   "cell_type": "code",
   "execution_count": 112,
   "metadata": {},
   "outputs": [
    {
     "data": {
      "text/plain": [
       "116"
      ]
     },
     "execution_count": 112,
     "metadata": {},
     "output_type": "execute_result"
    }
   ],
   "source": [
    "data.dropna(inplace=True)\n",
    "len(data)"
   ]
  },
  {
   "cell_type": "code",
   "execution_count": 113,
   "metadata": {},
   "outputs": [
    {
     "data": {
      "text/html": [
       "<div>\n",
       "<style scoped>\n",
       "    .dataframe tbody tr th:only-of-type {\n",
       "        vertical-align: middle;\n",
       "    }\n",
       "\n",
       "    .dataframe tbody tr th {\n",
       "        vertical-align: top;\n",
       "    }\n",
       "\n",
       "    .dataframe thead th {\n",
       "        text-align: right;\n",
       "    }\n",
       "</style>\n",
       "<table border=\"1\" class=\"dataframe\">\n",
       "  <thead>\n",
       "    <tr style=\"text-align: right;\">\n",
       "      <th></th>\n",
       "      <th>InterestRate</th>\n",
       "      <th>Inflation</th>\n",
       "      <th>AUDUSD</th>\n",
       "    </tr>\n",
       "    <tr>\n",
       "      <th>Date</th>\n",
       "      <th></th>\n",
       "      <th></th>\n",
       "      <th></th>\n",
       "    </tr>\n",
       "  </thead>\n",
       "  <tbody>\n",
       "    <tr>\n",
       "      <th>1990-03-31</th>\n",
       "      <td>16.5</td>\n",
       "      <td>1.6</td>\n",
       "      <td>0.7542</td>\n",
       "    </tr>\n",
       "    <tr>\n",
       "      <th>1990-06-30</th>\n",
       "      <td>15.0</td>\n",
       "      <td>1.8</td>\n",
       "      <td>0.7890</td>\n",
       "    </tr>\n",
       "    <tr>\n",
       "      <th>1990-09-30</th>\n",
       "      <td>14.0</td>\n",
       "      <td>0.9</td>\n",
       "      <td>0.8265</td>\n",
       "    </tr>\n",
       "    <tr>\n",
       "      <th>1990-12-31</th>\n",
       "      <td>12.0</td>\n",
       "      <td>2.4</td>\n",
       "      <td>0.7733</td>\n",
       "    </tr>\n",
       "    <tr>\n",
       "      <th>1991-03-31</th>\n",
       "      <td>12.0</td>\n",
       "      <td>-0.2</td>\n",
       "      <td>0.7752</td>\n",
       "    </tr>\n",
       "  </tbody>\n",
       "</table>\n",
       "</div>"
      ],
      "text/plain": [
       "            InterestRate  Inflation  AUDUSD\n",
       "Date                                       \n",
       "1990-03-31          16.5        1.6  0.7542\n",
       "1990-06-30          15.0        1.8  0.7890\n",
       "1990-09-30          14.0        0.9  0.8265\n",
       "1990-12-31          12.0        2.4  0.7733\n",
       "1991-03-31          12.0       -0.2  0.7752"
      ]
     },
     "execution_count": 113,
     "metadata": {},
     "output_type": "execute_result"
    }
   ],
   "source": [
    "data.head()"
   ]
  },
  {
   "cell_type": "code",
   "execution_count": 115,
   "metadata": {},
   "outputs": [],
   "source": [
    "# Using the interest rate and USD conversion to predict Inflation\n",
    "X = data[[\"InterestRate\", \"AUDUSD\"]]\n",
    "y = data['Inflation']"
   ]
  },
  {
   "cell_type": "code",
   "execution_count": 116,
   "metadata": {},
   "outputs": [],
   "source": [
    "import statsmodels.api as sm\n",
    "X = sm.add_constant(X)"
   ]
  },
  {
   "cell_type": "code",
   "execution_count": 117,
   "metadata": {},
   "outputs": [
    {
     "data": {
      "text/html": [
       "<div>\n",
       "<style scoped>\n",
       "    .dataframe tbody tr th:only-of-type {\n",
       "        vertical-align: middle;\n",
       "    }\n",
       "\n",
       "    .dataframe tbody tr th {\n",
       "        vertical-align: top;\n",
       "    }\n",
       "\n",
       "    .dataframe thead th {\n",
       "        text-align: right;\n",
       "    }\n",
       "</style>\n",
       "<table border=\"1\" class=\"dataframe\">\n",
       "  <thead>\n",
       "    <tr style=\"text-align: right;\">\n",
       "      <th></th>\n",
       "      <th>const</th>\n",
       "      <th>InterestRate</th>\n",
       "      <th>AUDUSD</th>\n",
       "    </tr>\n",
       "    <tr>\n",
       "      <th>Date</th>\n",
       "      <th></th>\n",
       "      <th></th>\n",
       "      <th></th>\n",
       "    </tr>\n",
       "  </thead>\n",
       "  <tbody>\n",
       "    <tr>\n",
       "      <th>1990-03-31</th>\n",
       "      <td>1.0</td>\n",
       "      <td>16.5</td>\n",
       "      <td>0.7542</td>\n",
       "    </tr>\n",
       "    <tr>\n",
       "      <th>1990-06-30</th>\n",
       "      <td>1.0</td>\n",
       "      <td>15.0</td>\n",
       "      <td>0.7890</td>\n",
       "    </tr>\n",
       "    <tr>\n",
       "      <th>1990-09-30</th>\n",
       "      <td>1.0</td>\n",
       "      <td>14.0</td>\n",
       "      <td>0.8265</td>\n",
       "    </tr>\n",
       "    <tr>\n",
       "      <th>1990-12-31</th>\n",
       "      <td>1.0</td>\n",
       "      <td>12.0</td>\n",
       "      <td>0.7733</td>\n",
       "    </tr>\n",
       "    <tr>\n",
       "      <th>1991-03-31</th>\n",
       "      <td>1.0</td>\n",
       "      <td>12.0</td>\n",
       "      <td>0.7752</td>\n",
       "    </tr>\n",
       "  </tbody>\n",
       "</table>\n",
       "</div>"
      ],
      "text/plain": [
       "            const  InterestRate  AUDUSD\n",
       "Date                                   \n",
       "1990-03-31    1.0          16.5  0.7542\n",
       "1990-06-30    1.0          15.0  0.7890\n",
       "1990-09-30    1.0          14.0  0.8265\n",
       "1990-12-31    1.0          12.0  0.7733\n",
       "1991-03-31    1.0          12.0  0.7752"
      ]
     },
     "execution_count": 117,
     "metadata": {},
     "output_type": "execute_result"
    }
   ],
   "source": [
    "X.head()"
   ]
  },
  {
   "cell_type": "code",
   "execution_count": 118,
   "metadata": {},
   "outputs": [
    {
     "data": {
      "text/html": [
       "<table class=\"simpletable\">\n",
       "<caption>OLS Regression Results</caption>\n",
       "<tr>\n",
       "  <th>Dep. Variable:</th>        <td>Inflation</td>    <th>  R-squared:         </th> <td>   0.106</td>\n",
       "</tr>\n",
       "<tr>\n",
       "  <th>Model:</th>                   <td>OLS</td>       <th>  Adj. R-squared:    </th> <td>   0.090</td>\n",
       "</tr>\n",
       "<tr>\n",
       "  <th>Method:</th>             <td>Least Squares</td>  <th>  F-statistic:       </th> <td>   6.693</td>\n",
       "</tr>\n",
       "<tr>\n",
       "  <th>Date:</th>             <td>Mon, 18 Feb 2019</td> <th>  Prob (F-statistic):</th>  <td>0.00179</td>\n",
       "</tr>\n",
       "<tr>\n",
       "  <th>Time:</th>                 <td>11:13:46</td>     <th>  Log-Likelihood:    </th> <td> -86.204</td>\n",
       "</tr>\n",
       "<tr>\n",
       "  <th>No. Observations:</th>      <td>   116</td>      <th>  AIC:               </th> <td>   178.4</td>\n",
       "</tr>\n",
       "<tr>\n",
       "  <th>Df Residuals:</th>          <td>   113</td>      <th>  BIC:               </th> <td>   186.7</td>\n",
       "</tr>\n",
       "<tr>\n",
       "  <th>Df Model:</th>              <td>     2</td>      <th>                     </th>     <td> </td>   \n",
       "</tr>\n",
       "<tr>\n",
       "  <th>Covariance Type:</th>      <td>nonrobust</td>    <th>                     </th>     <td> </td>   \n",
       "</tr>\n",
       "</table>\n",
       "<table class=\"simpletable\">\n",
       "<tr>\n",
       "        <td></td>          <th>coef</th>     <th>std err</th>      <th>t</th>      <th>P>|t|</th>  <th>[0.025</th>    <th>0.975]</th>  \n",
       "</tr>\n",
       "<tr>\n",
       "  <th>const</th>        <td>    0.2484</td> <td>    0.306</td> <td>    0.813</td> <td> 0.418</td> <td>   -0.357</td> <td>    0.854</td>\n",
       "</tr>\n",
       "<tr>\n",
       "  <th>InterestRate</th> <td>    0.0662</td> <td>    0.018</td> <td>    3.657</td> <td> 0.000</td> <td>    0.030</td> <td>    0.102</td>\n",
       "</tr>\n",
       "<tr>\n",
       "  <th>AUDUSD</th>       <td>    0.0537</td> <td>    0.368</td> <td>    0.146</td> <td> 0.884</td> <td>   -0.676</td> <td>    0.784</td>\n",
       "</tr>\n",
       "</table>\n",
       "<table class=\"simpletable\">\n",
       "<tr>\n",
       "  <th>Omnibus:</th>       <td>69.808</td> <th>  Durbin-Watson:     </th> <td>   1.745</td> \n",
       "</tr>\n",
       "<tr>\n",
       "  <th>Prob(Omnibus):</th> <td> 0.000</td> <th>  Jarque-Bera (JB):  </th> <td> 609.947</td> \n",
       "</tr>\n",
       "<tr>\n",
       "  <th>Skew:</th>          <td> 1.782</td> <th>  Prob(JB):          </th> <td>3.56e-133</td>\n",
       "</tr>\n",
       "<tr>\n",
       "  <th>Kurtosis:</th>      <td>13.653</td> <th>  Cond. No.          </th> <td>    58.0</td> \n",
       "</tr>\n",
       "</table><br/><br/>Warnings:<br/>[1] Standard Errors assume that the covariance matrix of the errors is correctly specified."
      ],
      "text/plain": [
       "<class 'statsmodels.iolib.summary.Summary'>\n",
       "\"\"\"\n",
       "                            OLS Regression Results                            \n",
       "==============================================================================\n",
       "Dep. Variable:              Inflation   R-squared:                       0.106\n",
       "Model:                            OLS   Adj. R-squared:                  0.090\n",
       "Method:                 Least Squares   F-statistic:                     6.693\n",
       "Date:                Mon, 18 Feb 2019   Prob (F-statistic):            0.00179\n",
       "Time:                        11:13:46   Log-Likelihood:                -86.204\n",
       "No. Observations:                 116   AIC:                             178.4\n",
       "Df Residuals:                     113   BIC:                             186.7\n",
       "Df Model:                           2                                         \n",
       "Covariance Type:            nonrobust                                         \n",
       "================================================================================\n",
       "                   coef    std err          t      P>|t|      [0.025      0.975]\n",
       "--------------------------------------------------------------------------------\n",
       "const            0.2484      0.306      0.813      0.418      -0.357       0.854\n",
       "InterestRate     0.0662      0.018      3.657      0.000       0.030       0.102\n",
       "AUDUSD           0.0537      0.368      0.146      0.884      -0.676       0.784\n",
       "==============================================================================\n",
       "Omnibus:                       69.808   Durbin-Watson:                   1.745\n",
       "Prob(Omnibus):                  0.000   Jarque-Bera (JB):              609.947\n",
       "Skew:                           1.782   Prob(JB):                    3.56e-133\n",
       "Kurtosis:                      13.653   Cond. No.                         58.0\n",
       "==============================================================================\n",
       "\n",
       "Warnings:\n",
       "[1] Standard Errors assume that the covariance matrix of the errors is correctly specified.\n",
       "\"\"\""
      ]
     },
     "execution_count": 118,
     "metadata": {},
     "output_type": "execute_result"
    }
   ],
   "source": [
    "# Fit an OLS model and get a summary\n",
    "est = sm.OLS(y, X).fit()\n",
    "\n",
    "est.summary()"
   ]
  },
  {
   "cell_type": "markdown",
   "metadata": {},
   "source": [
    "We'll come back to what these values mean in the next notebook."
   ]
  },
  {
   "cell_type": "code",
   "execution_count": 119,
   "metadata": {},
   "outputs": [],
   "source": [
    "y_pred = est.predict(X)\n",
    "y_pred.name = \"PredictedInflation\""
   ]
  },
  {
   "cell_type": "code",
   "execution_count": 120,
   "metadata": {},
   "outputs": [
    {
     "data": {
      "text/plain": [
       "<matplotlib.axes._subplots.AxesSubplot at 0x7f9f1f7d41d0>"
      ]
     },
     "execution_count": 120,
     "metadata": {},
     "output_type": "execute_result"
    },
    {
     "data": {
      "image/png": "[encoded data removed]",
      "text/plain": [
       "<Figure size 432x288 with 1 Axes>"
      ]
     },
     "metadata": {
      "needs_background": "light"
     },
     "output_type": "display_data"
    }
   ],
   "source": [
    "pd.concat([y, y_pred], axis=1).plot()"
   ]
  },
  {
   "cell_type": "markdown",
   "metadata": {},
   "source": [
    "Our OLS model is able to roughly model the general trend of the inflation!\n",
    "\n",
    "<div class=\"alert alert-warning\">\n",
    "    Don't get too excited about the quality of that prediction! We are currently overfitting that data, so we haven't determined the actual predictive power of the model. In short, to evaluate your model you must evaluate using data the model hasn't seen before.\n",
    "</div>"
   ]
  },
  {
   "cell_type": "markdown",
   "metadata": {},
   "source": [
    "### Exercises\n",
    "\n",
    "Perform a more robust evaluation of the model by following these steps:\n",
    "\n",
    "1. Split your input data (the `data` variable) into two-thirds training and one-third testing.\n",
    "2. Fit the model *only* on the training data\n",
    "3. Predict the testing data and evaluate the results."
   ]
  },
  {
   "cell_type": "markdown",
   "metadata": {},
   "source": [
    "The second method of performing multivariant OLS using statsmodels is using the formula interface:"
   ]
  },
  {
   "cell_type": "code",
   "execution_count": 124,
   "metadata": {},
   "outputs": [],
   "source": [
    "import statsmodels.formula.api as smf\n",
    "est = smf.ols(formula='Inflation ~ InterestRate + AUDUSD', data=data).fit()  # Does the constant for us"
   ]
  },
  {
   "cell_type": "code",
   "execution_count": 123,
   "metadata": {},
   "outputs": [
    {
     "data": {
      "text/plain": [
       "<matplotlib.axes._subplots.AxesSubplot at 0x7f9f1a13a208>"
      ]
     },
     "execution_count": 123,
     "metadata": {},
     "output_type": "execute_result"
    },
    {
     "data": {
      "image/png": "[encoded data removed]",
      "text/plain": [
       "<Figure size 432x288 with 1 Axes>"
      ]
     },
     "metadata": {
      "needs_background": "light"
     },
     "output_type": "display_data"
    }
   ],
   "source": [
    "y_pred = est.predict(X)\n",
    "y_pred.name = \"PredictedInflation\"\n",
    "pd.concat([y, y_pred], axis=1).plot()"
   ]
  },
  {
   "cell_type": "markdown",
   "metadata": {},
   "source": [
    "Using this method, we can also more easily modify the formula, for instance, to incorporate a new feature which is the interaction between Interest Rate and AUD/USD:"
   ]
  },
  {
   "cell_type": "code",
   "execution_count": 125,
   "metadata": {},
   "outputs": [],
   "source": [
    "import statsmodels.formula.api as smf\n",
    "est = smf.ols(formula='Inflation ~ InterestRate + AUDUSD + (InterestRate * AUDUSD)', \n",
    "              data=data).fit()  # Does the constant for us"
   ]
  },
  {
   "cell_type": "code",
   "execution_count": 126,
   "metadata": {},
   "outputs": [
    {
     "data": {
      "text/plain": [
       "<matplotlib.axes._subplots.AxesSubplot at 0x7f9f19e65908>"
      ]
     },
     "execution_count": 126,
     "metadata": {},
     "output_type": "execute_result"
    },
    {
     "data": {
      "image/png": "[encoded data removed]",
      "text/plain": [
       "<Figure size 432x288 with 1 Axes>"
      ]
     },
     "metadata": {
      "needs_background": "light"
     },
     "output_type": "display_data"
    }
   ],
   "source": [
    "y_pred = est.predict(X)\n",
    "y_pred.name = \"PredictedInflation\"\n",
    "pd.concat([y, y_pred], axis=1).plot()"
   ]
  },
  {
   "cell_type": "markdown",
   "metadata": {},
   "source": [
    "### Exercises:\n",
    "\n",
    "1. Perform the same train/test split that we did for the previous exercises\n",
    "2. Review the documentation for the formula API: https://www.statsmodels.org/dev/example_formulas.html\n",
    "3. Try a few different combinations of the input parameters to get better predictive power."
   ]
  }
 ],
 "metadata": {
  "kernelspec": {
   "display_name": "Python 3",
   "language": "python",
   "name": "python3"
  },
  "language_info": {
   "codemirror_mode": {
    "name": "ipython",
    "version": 3
   },
   "file_extension": ".py",
   "mimetype": "text/x-python",
   "name": "python",
   "nbconvert_exporter": "python",
   "pygments_lexer": "ipython3",
   "version": "3.6.8"
  }
 },
 "nbformat": 4,
 "nbformat_minor": 2
}
